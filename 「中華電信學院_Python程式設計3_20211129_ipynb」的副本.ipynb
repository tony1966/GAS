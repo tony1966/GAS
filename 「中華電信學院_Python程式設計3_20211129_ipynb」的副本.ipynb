{
  "nbformat": 4,
  "nbformat_minor": 0,
  "metadata": {
    "colab": {
      "name": "「中華電信學院_Python程式設計3_20211129.ipynb」的副本",
      "provenance": [],
      "toc_visible": true,
      "include_colab_link": true
    },
    "kernelspec": {
      "name": "python3",
      "display_name": "Python 3"
    },
    "language_info": {
      "name": "python"
    }
  },
  "cells": [
    {
      "cell_type": "markdown",
      "metadata": {
        "id": "view-in-github",
        "colab_type": "text"
      },
      "source": [
        "<a href=\"https://colab.research.google.com/github/tony1966/GAS/blob/master/%E3%80%8C%E4%B8%AD%E8%8F%AF%E9%9B%BB%E4%BF%A1%E5%AD%B8%E9%99%A2_Python%E7%A8%8B%E5%BC%8F%E8%A8%AD%E8%A8%883_20211129_ipynb%E3%80%8D%E7%9A%84%E5%89%AF%E6%9C%AC.ipynb\" target=\"_parent\"><img src=\"https://colab.research.google.com/assets/colab-badge.svg\" alt=\"Open In Colab\"/></a>"
      ]
    },
    {
      "cell_type": "markdown",
      "metadata": {
        "id": "Toeyixg1GmwT"
      },
      "source": [
        "## Python 程式設計 3\n",
        "\n",
        "> 機器學習從零到一\n",
        "\n",
        "[數據交點](https://www.datainpoint.com) | 郭耀仁 <yaojenkuo@datainpoint.com>"
      ]
    },
    {
      "cell_type": "markdown",
      "metadata": {
        "id": "Txszvs_6Guw2"
      },
      "source": [
        "## 2021-11-29\n",
        "\n",
        "- [00-簡介](https://datainpoint.github.io/classroom-ml-from-scratch/00-introduction.slides.html)\n",
        "- [01-數列運算](https://datainpoint.github.io/classroom-ml-from-scratch/01-numpy.slides.html)\n",
        "- [01-練習題](https://mybinder.org/v2/gh/datainpoint/classroom-ml-from-scratch/HEAD?labpath=01-exercises%2Fexercises.ipynb)"
      ]
    },
    {
      "cell_type": "code",
      "metadata": {
        "id": "-VbiyEuFGfmV"
      },
      "source": [
        "import numpy as np\n",
        "import matplotlib.pyplot as plt\n",
        "import time"
      ],
      "execution_count": null,
      "outputs": []
    },
    {
      "cell_type": "code",
      "metadata": {
        "colab": {
          "base_uri": "https://localhost:8080/"
        },
        "id": "Gr3Uetf6oJWI",
        "outputId": "df29602b-7547-4316-e80d-775f80b7ae3e"
      },
      "source": [
        "print(np.__version__)\n",
        "print(np.__file__)"
      ],
      "execution_count": null,
      "outputs": [
        {
          "output_type": "stream",
          "name": "stdout",
          "text": [
            "1.19.5\n",
            "/usr/local/lib/python3.7/dist-packages/numpy/__init__.py\n"
          ]
        }
      ]
    },
    {
      "cell_type": "code",
      "metadata": {
        "colab": {
          "base_uri": "https://localhost:8080/"
        },
        "id": "nDi4BCQ3pIMQ",
        "outputId": "514fad55-6486-446f-afe2-bb6eab10e5b5"
      },
      "source": [
        "heterogeneous_list = [False, True, 5566, 55.66, 'Luke Skywalker']\n",
        "for elem in heterogeneous_list:\n",
        "    print(type(elem))"
      ],
      "execution_count": null,
      "outputs": [
        {
          "output_type": "stream",
          "name": "stdout",
          "text": [
            "<class 'bool'>\n",
            "<class 'bool'>\n",
            "<class 'int'>\n",
            "<class 'float'>\n",
            "<class 'str'>\n"
          ]
        }
      ]
    },
    {
      "cell_type": "code",
      "metadata": {
        "colab": {
          "base_uri": "https://localhost:8080/"
        },
        "id": "Bu0Ufpf8sW9_",
        "outputId": "9dc81ce6-9d68-49c2-a866-0d6dd00a4b63"
      },
      "source": [
        "heterogeneous_list = [False, True, 5566, 55.66, 'Luke Skywalker']\n",
        "homogeneous_arr = np.array(heterogeneous_list)\n",
        "print(type(homogeneous_arr))\n",
        "for elem in homogeneous_arr:\n",
        "    print(type(elem))"
      ],
      "execution_count": null,
      "outputs": [
        {
          "output_type": "stream",
          "name": "stdout",
          "text": [
            "<class 'numpy.ndarray'>\n",
            "<class 'numpy.str_'>\n",
            "<class 'numpy.str_'>\n",
            "<class 'numpy.str_'>\n",
            "<class 'numpy.str_'>\n",
            "<class 'numpy.str_'>\n"
          ]
        }
      ]
    },
    {
      "cell_type": "code",
      "metadata": {
        "colab": {
          "base_uri": "https://localhost:8080/"
        },
        "id": "bryXPEuos84f",
        "outputId": "f28268c3-9165-402a-df18-df11b32edffe"
      },
      "source": [
        "m = 1000000\n",
        "large_array = np.random.randint(1, 100, size=m)\n",
        "large_list = list(large_array)\n",
        "print(type(large_array))\n",
        "print(type(large_list))\n",
        "print(len(large_array))\n",
        "print(len(large_list))"
      ],
      "execution_count": null,
      "outputs": [
        {
          "output_type": "stream",
          "name": "stdout",
          "text": [
            "<class 'numpy.ndarray'>\n",
            "<class 'list'>\n",
            "1000000\n",
            "1000000\n"
          ]
        }
      ]
    },
    {
      "cell_type": "code",
      "metadata": {
        "colab": {
          "base_uri": "https://localhost:8080/"
        },
        "id": "4qR_YKSRtO1P",
        "outputId": "84206986-4ef8-4493-e815-43eaf60df200"
      },
      "source": [
        "start_time = time.time()\n",
        "reciprocals = [1 / i for i in large_list]\n",
        "end_time = time.time()\n",
        "computing_time = end_time - start_time\n",
        "print(\"Computing time for {:,} reciprocals: {:.2f} seconds.\".format(m, computing_time))"
      ],
      "execution_count": null,
      "outputs": [
        {
          "output_type": "stream",
          "name": "stdout",
          "text": [
            "Computing time for 1,000,000 reciprocals: 0.24 seconds.\n"
          ]
        }
      ]
    },
    {
      "cell_type": "code",
      "metadata": {
        "colab": {
          "base_uri": "https://localhost:8080/"
        },
        "id": "3VG-h9e4tene",
        "outputId": "19d7385f-e017-4342-c885-bfcff50faaea"
      },
      "source": [
        "start_time = time.time()\n",
        "reciprocals = 1 / large_array\n",
        "end_time = time.time()\n",
        "computing_time = end_time - start_time\n",
        "print(\"Computing time for {:,} reciprocals: {:.4f} seconds.\".format(m, computing_time))"
      ],
      "execution_count": null,
      "outputs": [
        {
          "output_type": "stream",
          "name": "stdout",
          "text": [
            "Computing time for 1,000,000 reciprocals: 0.0037 seconds.\n"
          ]
        }
      ]
    },
    {
      "cell_type": "code",
      "metadata": {
        "colab": {
          "base_uri": "https://localhost:8080/"
        },
        "id": "QL_iVtYCt7ef",
        "outputId": "178d06e6-fe80-4c28-8936-59b52590a1b9"
      },
      "source": [
        "help(np.arange)"
      ],
      "execution_count": null,
      "outputs": [
        {
          "output_type": "stream",
          "name": "stdout",
          "text": [
            "Help on built-in function arange in module numpy:\n",
            "\n",
            "arange(...)\n",
            "    arange([start,] stop[, step,], dtype=None)\n",
            "    \n",
            "    Return evenly spaced values within a given interval.\n",
            "    \n",
            "    Values are generated within the half-open interval ``[start, stop)``\n",
            "    (in other words, the interval including `start` but excluding `stop`).\n",
            "    For integer arguments the function is equivalent to the Python built-in\n",
            "    `range` function, but returns an ndarray rather than a list.\n",
            "    \n",
            "    When using a non-integer step, such as 0.1, the results will often not\n",
            "    be consistent.  It is better to use `numpy.linspace` for these cases.\n",
            "    \n",
            "    Parameters\n",
            "    ----------\n",
            "    start : number, optional\n",
            "        Start of interval.  The interval includes this value.  The default\n",
            "        start value is 0.\n",
            "    stop : number\n",
            "        End of interval.  The interval does not include this value, except\n",
            "        in some cases where `step` is not an integer and floating point\n",
            "        round-off affects the length of `out`.\n",
            "    step : number, optional\n",
            "        Spacing between values.  For any output `out`, this is the distance\n",
            "        between two adjacent values, ``out[i+1] - out[i]``.  The default\n",
            "        step size is 1.  If `step` is specified as a position argument,\n",
            "        `start` must also be given.\n",
            "    dtype : dtype\n",
            "        The type of the output array.  If `dtype` is not given, infer the data\n",
            "        type from the other input arguments.\n",
            "    \n",
            "    Returns\n",
            "    -------\n",
            "    arange : ndarray\n",
            "        Array of evenly spaced values.\n",
            "    \n",
            "        For floating point arguments, the length of the result is\n",
            "        ``ceil((stop - start)/step)``.  Because of floating point overflow,\n",
            "        this rule may result in the last element of `out` being greater\n",
            "        than `stop`.\n",
            "    \n",
            "    See Also\n",
            "    --------\n",
            "    numpy.linspace : Evenly spaced numbers with careful handling of endpoints.\n",
            "    numpy.ogrid: Arrays of evenly spaced numbers in N-dimensions.\n",
            "    numpy.mgrid: Grid-shaped arrays of evenly spaced numbers in N-dimensions.\n",
            "    \n",
            "    Examples\n",
            "    --------\n",
            "    >>> np.arange(3)\n",
            "    array([0, 1, 2])\n",
            "    >>> np.arange(3.0)\n",
            "    array([ 0.,  1.,  2.])\n",
            "    >>> np.arange(3,7)\n",
            "    array([3, 4, 5, 6])\n",
            "    >>> np.arange(3,7,2)\n",
            "    array([3, 5])\n",
            "\n"
          ]
        }
      ]
    },
    {
      "cell_type": "code",
      "metadata": {
        "colab": {
          "base_uri": "https://localhost:8080/"
        },
        "id": "XogApJc3u0cf",
        "outputId": "60f44c55-e8b1-4c3e-be43-b9d383cfcf37"
      },
      "source": [
        "help(np.linspace)"
      ],
      "execution_count": null,
      "outputs": [
        {
          "output_type": "stream",
          "name": "stdout",
          "text": [
            "Help on function linspace in module numpy:\n",
            "\n",
            "linspace(start, stop, num=50, endpoint=True, retstep=False, dtype=None, axis=0)\n",
            "    Return evenly spaced numbers over a specified interval.\n",
            "    \n",
            "    Returns `num` evenly spaced samples, calculated over the\n",
            "    interval [`start`, `stop`].\n",
            "    \n",
            "    The endpoint of the interval can optionally be excluded.\n",
            "    \n",
            "    .. versionchanged:: 1.16.0\n",
            "        Non-scalar `start` and `stop` are now supported.\n",
            "    \n",
            "    Parameters\n",
            "    ----------\n",
            "    start : array_like\n",
            "        The starting value of the sequence.\n",
            "    stop : array_like\n",
            "        The end value of the sequence, unless `endpoint` is set to False.\n",
            "        In that case, the sequence consists of all but the last of ``num + 1``\n",
            "        evenly spaced samples, so that `stop` is excluded.  Note that the step\n",
            "        size changes when `endpoint` is False.\n",
            "    num : int, optional\n",
            "        Number of samples to generate. Default is 50. Must be non-negative.\n",
            "    endpoint : bool, optional\n",
            "        If True, `stop` is the last sample. Otherwise, it is not included.\n",
            "        Default is True.\n",
            "    retstep : bool, optional\n",
            "        If True, return (`samples`, `step`), where `step` is the spacing\n",
            "        between samples.\n",
            "    dtype : dtype, optional\n",
            "        The type of the output array.  If `dtype` is not given, infer the data\n",
            "        type from the other input arguments.\n",
            "    \n",
            "        .. versionadded:: 1.9.0\n",
            "    \n",
            "    axis : int, optional\n",
            "        The axis in the result to store the samples.  Relevant only if start\n",
            "        or stop are array-like.  By default (0), the samples will be along a\n",
            "        new axis inserted at the beginning. Use -1 to get an axis at the end.\n",
            "    \n",
            "        .. versionadded:: 1.16.0\n",
            "    \n",
            "    Returns\n",
            "    -------\n",
            "    samples : ndarray\n",
            "        There are `num` equally spaced samples in the closed interval\n",
            "        ``[start, stop]`` or the half-open interval ``[start, stop)``\n",
            "        (depending on whether `endpoint` is True or False).\n",
            "    step : float, optional\n",
            "        Only returned if `retstep` is True\n",
            "    \n",
            "        Size of spacing between samples.\n",
            "    \n",
            "    \n",
            "    See Also\n",
            "    --------\n",
            "    arange : Similar to `linspace`, but uses a step size (instead of the\n",
            "             number of samples).\n",
            "    geomspace : Similar to `linspace`, but with numbers spaced evenly on a log\n",
            "                scale (a geometric progression).\n",
            "    logspace : Similar to `geomspace`, but with the end points specified as\n",
            "               logarithms.\n",
            "    \n",
            "    Examples\n",
            "    --------\n",
            "    >>> np.linspace(2.0, 3.0, num=5)\n",
            "    array([2.  , 2.25, 2.5 , 2.75, 3.  ])\n",
            "    >>> np.linspace(2.0, 3.0, num=5, endpoint=False)\n",
            "    array([2. ,  2.2,  2.4,  2.6,  2.8])\n",
            "    >>> np.linspace(2.0, 3.0, num=5, retstep=True)\n",
            "    (array([2.  ,  2.25,  2.5 ,  2.75,  3.  ]), 0.25)\n",
            "    \n",
            "    Graphical illustration:\n",
            "    \n",
            "    >>> import matplotlib.pyplot as plt\n",
            "    >>> N = 8\n",
            "    >>> y = np.zeros(N)\n",
            "    >>> x1 = np.linspace(0, 10, N, endpoint=True)\n",
            "    >>> x2 = np.linspace(0, 10, N, endpoint=False)\n",
            "    >>> plt.plot(x1, y, 'o')\n",
            "    [<matplotlib.lines.Line2D object at 0x...>]\n",
            "    >>> plt.plot(x2, y + 0.5, 'o')\n",
            "    [<matplotlib.lines.Line2D object at 0x...>]\n",
            "    >>> plt.ylim([-0.5, 1])\n",
            "    (-0.5, 1)\n",
            "    >>> plt.show()\n",
            "\n"
          ]
        }
      ]
    },
    {
      "cell_type": "code",
      "metadata": {
        "colab": {
          "base_uri": "https://localhost:8080/"
        },
        "id": "VB6HXIkJvB6t",
        "outputId": "eedc0b2e-fa4a-408e-e1ff-890ff0b4ccd4"
      },
      "source": [
        "print(list(range(1, 10, 2)))\n",
        "print(np.arange(1, 10, 2))\n",
        "print(np.linspace(1, 9, num=5))"
      ],
      "execution_count": null,
      "outputs": [
        {
          "output_type": "stream",
          "name": "stdout",
          "text": [
            "[1, 3, 5, 7, 9]\n",
            "[1 3 5 7 9]\n",
            "[1. 3. 5. 7. 9.]\n"
          ]
        }
      ]
    },
    {
      "cell_type": "code",
      "metadata": {
        "colab": {
          "base_uri": "https://localhost:8080/"
        },
        "id": "-XrWrJMHvcNO",
        "outputId": "109e9c47-873f-4aa1-f705-c6396b505e80"
      },
      "source": [
        "m = 10000\n",
        "uniform_arr = np.random.random(m)\n",
        "normal_arr = np.random.normal(0, 1, m)\n",
        "randint_arr = np.random.randint(1, 7, size=m)\n",
        "print(uniform_arr)\n",
        "print(normal_arr)\n",
        "print(randint_arr)"
      ],
      "execution_count": null,
      "outputs": [
        {
          "output_type": "stream",
          "name": "stdout",
          "text": [
            "[0.1964386  0.39884443 0.19729419 ... 0.8283551  0.10050404 0.24537206]\n",
            "[-1.42897685 -0.62164603 -0.36336452 ...  2.15650975 -0.47904793\n",
            " -0.48236697]\n",
            "[6 3 2 ... 3 4 3]\n"
          ]
        }
      ]
    },
    {
      "cell_type": "code",
      "metadata": {
        "colab": {
          "base_uri": "https://localhost:8080/",
          "height": 265
        },
        "id": "vUvn1tcBvvN1",
        "outputId": "a8857822-b760-4e12-ff63-6e0c6b111e73"
      },
      "source": [
        "fig = plt.figure()\n",
        "ax = plt.axes()\n",
        "ax.hist(uniform_arr, bins=20)\n",
        "plt.show()"
      ],
      "execution_count": null,
      "outputs": [
        {
          "output_type": "display_data",
          "data": {
            "image/png": "[encoded data removed]",
            "text/plain": [
              "<Figure size 432x288 with 1 Axes>"
            ]
          },
          "metadata": {
            "needs_background": "light"
          }
        }
      ]
    },
    {
      "cell_type": "code",
      "metadata": {
        "colab": {
          "base_uri": "https://localhost:8080/",
          "height": 265
        },
        "id": "mWeMgsHav7G-",
        "outputId": "7ac41441-0384-495b-f339-a856791a3d62"
      },
      "source": [
        "fig = plt.figure()\n",
        "ax = plt.axes()\n",
        "ax.hist(normal_arr, bins=30)\n",
        "plt.show()"
      ],
      "execution_count": null,
      "outputs": [
        {
          "output_type": "display_data",
          "data": {
            "image/png": "[encoded data removed]",
            "text/plain": [
              "<Figure size 432x288 with 1 Axes>"
            ]
          },
          "metadata": {
            "needs_background": "light"
          }
        }
      ]
    },
    {
      "cell_type": "code",
      "metadata": {
        "colab": {
          "base_uri": "https://localhost:8080/",
          "height": 265
        },
        "id": "RrjcZxaJwAc2",
        "outputId": "4e8e40ef-3997-4556-980f-d420909fdfe0"
      },
      "source": [
        "uniques, counts = np.unique(randint_arr, return_counts=True)\n",
        "fig = plt.figure()\n",
        "ax = plt.axes()\n",
        "ax.bar(uniques, counts)\n",
        "plt.show()"
      ],
      "execution_count": null,
      "outputs": [
        {
          "output_type": "display_data",
          "data": {
            "image/png": "[encoded data removed]",
            "text/plain": [
              "<Figure size 432x288 with 1 Axes>"
            ]
          },
          "metadata": {
            "needs_background": "light"
          }
        }
      ]
    },
    {
      "cell_type": "code",
      "metadata": {
        "colab": {
          "base_uri": "https://localhost:8080/"
        },
        "id": "0hW18iqDwNeG",
        "outputId": "ec0d302c-b1fe-44a4-bfb5-8435130b2584"
      },
      "source": [
        "my_int = 5566\n",
        "print(type(my_int))\n",
        "print(my_int)"
      ],
      "execution_count": null,
      "outputs": [
        {
          "output_type": "stream",
          "name": "stdout",
          "text": [
            "<class 'int'>\n",
            "5566\n"
          ]
        }
      ]
    },
    {
      "cell_type": "code",
      "metadata": {
        "colab": {
          "base_uri": "https://localhost:8080/"
        },
        "id": "zAx-GMekw_on",
        "outputId": "d9c04ccb-a909-4471-fb60-8f0df0e0ea53"
      },
      "source": [
        "scalar = np.array(5566)\n",
        "print(type(scalar))\n",
        "print(scalar)\n",
        "print(scalar.ndim)\n",
        "print(scalar.shape)"
      ],
      "execution_count": null,
      "outputs": [
        {
          "output_type": "stream",
          "name": "stdout",
          "text": [
            "<class 'numpy.ndarray'>\n",
            "5566\n",
            "0\n",
            "()\n"
          ]
        }
      ]
    },
    {
      "cell_type": "code",
      "metadata": {
        "colab": {
          "base_uri": "https://localhost:8080/"
        },
        "id": "wpdeM9JgxOKX",
        "outputId": "0f412544-4cea-4875-8ee9-73feca139faa"
      },
      "source": [
        "matrix = np.array([[5, 5],\n",
        "                   [6, 6],\n",
        "                   [7, 7]])\n",
        "print(matrix)\n",
        "print(matrix.ndim)\n",
        "print(matrix.shape)"
      ],
      "execution_count": null,
      "outputs": [
        {
          "output_type": "stream",
          "name": "stdout",
          "text": [
            "[[5 5]\n",
            " [6 6]\n",
            " [7 7]]\n",
            "2\n",
            "(3, 2)\n"
          ]
        }
      ]
    },
    {
      "cell_type": "code",
      "metadata": {
        "colab": {
          "base_uri": "https://localhost:8080/"
        },
        "id": "fLsIEf5fxmDG",
        "outputId": "fc696ad2-3ee7-4a39-a787-54dc538e7fcb"
      },
      "source": [
        "arr_a = np.array([5, 5, 6, 6])\n",
        "b = 2\n",
        "arr_a * b"
      ],
      "execution_count": null,
      "outputs": [
        {
          "output_type": "execute_result",
          "data": {
            "text/plain": [
              "array([10, 10, 12, 12])"
            ]
          },
          "metadata": {},
          "execution_count": 44
        }
      ]
    },
    {
      "cell_type": "code",
      "metadata": {
        "colab": {
          "base_uri": "https://localhost:8080/"
        },
        "id": "Bwbot8QsyVS-",
        "outputId": "b056a7e3-ae80-410b-e848-6fd7dac811ba"
      },
      "source": [
        "arr_b = np.array([2, 2, 2, 2])\n",
        "arr_a * arr_b"
      ],
      "execution_count": null,
      "outputs": [
        {
          "output_type": "execute_result",
          "data": {
            "text/plain": [
              "array([10, 10, 12, 12])"
            ]
          },
          "metadata": {},
          "execution_count": 45
        }
      ]
    },
    {
      "cell_type": "code",
      "metadata": {
        "colab": {
          "base_uri": "https://localhost:8080/"
        },
        "id": "gfcCVod8ygNV",
        "outputId": "9e491982-80fa-4d7b-989e-85afcb1e61c6"
      },
      "source": [
        "arr_b = np.array([[2],\n",
        "                  [2],\n",
        "                  [2],\n",
        "                  [2]])\n",
        "arr_b.shape"
      ],
      "execution_count": null,
      "outputs": [
        {
          "output_type": "execute_result",
          "data": {
            "text/plain": [
              "(4, 1)"
            ]
          },
          "metadata": {},
          "execution_count": 47
        }
      ]
    },
    {
      "cell_type": "code",
      "metadata": {
        "colab": {
          "base_uri": "https://localhost:8080/"
        },
        "id": "juDpaGHsy8dW",
        "outputId": "e64087ce-d067-461c-cc0c-027336db95fb"
      },
      "source": [
        "arr_a * arr_b"
      ],
      "execution_count": null,
      "outputs": [
        {
          "output_type": "execute_result",
          "data": {
            "text/plain": [
              "array([[10, 10, 12, 12],\n",
              "       [10, 10, 12, 12],\n",
              "       [10, 10, 12, 12],\n",
              "       [10, 10, 12, 12]])"
            ]
          },
          "metadata": {},
          "execution_count": 48
        }
      ]
    },
    {
      "cell_type": "code",
      "metadata": {
        "colab": {
          "base_uri": "https://localhost:8080/"
        },
        "id": "MgU8Rx9qzs4t",
        "outputId": "0c5f7630-17e3-47a6-b198-211756688bb0"
      },
      "source": [
        "lst = [[ 1,  2,  3,  4],\n",
        "       [ 5,  6,  7,  8],\n",
        "       [ 9, 10, 11, 12]]\n",
        "print(lst[2][1])"
      ],
      "execution_count": null,
      "outputs": [
        {
          "output_type": "execute_result",
          "data": {
            "text/plain": [
              "10"
            ]
          },
          "metadata": {},
          "execution_count": 51
        }
      ]
    },
    {
      "cell_type": "code",
      "metadata": {
        "colab": {
          "base_uri": "https://localhost:8080/"
        },
        "id": "qzvIFXdY0Zcn",
        "outputId": "970134c8-0ac3-4998-88c7-e8ce13bc426e"
      },
      "source": [
        "arr = np.array(lst)\n",
        "print(arr[2, 1])"
      ],
      "execution_count": null,
      "outputs": [
        {
          "output_type": "stream",
          "name": "stdout",
          "text": [
            "10\n"
          ]
        }
      ]
    },
    {
      "cell_type": "code",
      "metadata": {
        "colab": {
          "base_uri": "https://localhost:8080/"
        },
        "id": "lzABcJ0O0lKt",
        "outputId": "184f1653-b2d5-46b3-892b-7060dfcf72fe"
      },
      "source": [
        "arr[:, 1]"
      ],
      "execution_count": null,
      "outputs": [
        {
          "output_type": "execute_result",
          "data": {
            "text/plain": [
              "array([ 2,  6, 10])"
            ]
          },
          "metadata": {},
          "execution_count": 53
        }
      ]
    },
    {
      "cell_type": "code",
      "metadata": {
        "colab": {
          "base_uri": "https://localhost:8080/"
        },
        "id": "SOg2cwJQ0zIF",
        "outputId": "fa7ff314-75c6-4b21-c1fb-4deb364ddc04"
      },
      "source": [
        "arr[:, [1]]"
      ],
      "execution_count": null,
      "outputs": [
        {
          "output_type": "execute_result",
          "data": {
            "text/plain": [
              "array([[ 2],\n",
              "       [ 6],\n",
              "       [10]])"
            ]
          },
          "metadata": {},
          "execution_count": 54
        }
      ]
    },
    {
      "cell_type": "code",
      "metadata": {
        "colab": {
          "base_uri": "https://localhost:8080/"
        },
        "id": "D52djKHf06Vt",
        "outputId": "f22ec2f7-9800-420c-ee48-8d85c8d72358"
      },
      "source": [
        "arr = np.array([2, 3, 5, 7, 11])\n",
        "arr[[0, 1, 4]]"
      ],
      "execution_count": null,
      "outputs": [
        {
          "output_type": "execute_result",
          "data": {
            "text/plain": [
              "array([ 2,  3, 11])"
            ]
          },
          "metadata": {},
          "execution_count": 55
        }
      ]
    },
    {
      "cell_type": "code",
      "metadata": {
        "colab": {
          "base_uri": "https://localhost:8080/"
        },
        "id": "eX7SC7E71JtG",
        "outputId": "9ce3c61c-abb9-443a-d383-fe2663971d75"
      },
      "source": [
        "arr[[False, True, True, True, True]]"
      ],
      "execution_count": null,
      "outputs": [
        {
          "output_type": "execute_result",
          "data": {
            "text/plain": [
              "array([ 3,  5,  7, 11])"
            ]
          },
          "metadata": {},
          "execution_count": 56
        }
      ]
    },
    {
      "cell_type": "code",
      "metadata": {
        "colab": {
          "base_uri": "https://localhost:8080/"
        },
        "id": "hAN3KS2R1e9E",
        "outputId": "e87654f6-ebd3-4c6b-f507-009148f1245a"
      },
      "source": [
        "arr[arr > 2]"
      ],
      "execution_count": null,
      "outputs": [
        {
          "output_type": "execute_result",
          "data": {
            "text/plain": [
              "array([ 3,  5,  7, 11])"
            ]
          },
          "metadata": {},
          "execution_count": 58
        }
      ]
    },
    {
      "cell_type": "code",
      "metadata": {
        "colab": {
          "base_uri": "https://localhost:8080/"
        },
        "id": "eX2kmwAE1r09",
        "outputId": "9c40a64f-44db-4603-eb3a-ccc3a95489fa"
      },
      "source": [
        "arr = np.arange(1, 10)\n",
        "arr.reshape(3, 1, 3).ravel()"
      ],
      "execution_count": null,
      "outputs": [
        {
          "output_type": "execute_result",
          "data": {
            "text/plain": [
              "array([1, 2, 3, 4, 5, 6, 7, 8, 9])"
            ]
          },
          "metadata": {},
          "execution_count": 66
        }
      ]
    },
    {
      "cell_type": "code",
      "metadata": {
        "colab": {
          "base_uri": "https://localhost:8080/"
        },
        "id": "W0l3set0LgCC",
        "outputId": "1efc257f-fb3a-4900-ece2-90df1ec941d1"
      },
      "source": [
        "arr = np.arange(1, 13)\n",
        "arr.reshape(3, -1)"
      ],
      "execution_count": null,
      "outputs": [
        {
          "output_type": "execute_result",
          "data": {
            "text/plain": [
              "array([[ 1,  2,  3,  4],\n",
              "       [ 5,  6,  7,  8],\n",
              "       [ 9, 10, 11, 12]])"
            ]
          },
          "metadata": {},
          "execution_count": 75
        }
      ]
    },
    {
      "cell_type": "code",
      "metadata": {
        "colab": {
          "base_uri": "https://localhost:8080/"
        },
        "id": "lSUKL7QOMCSh",
        "outputId": "1e454068-b50c-4de1-e979-a015d081a32f"
      },
      "source": [
        "arr.reshape(2, 2, -1)"
      ],
      "execution_count": null,
      "outputs": [
        {
          "output_type": "execute_result",
          "data": {
            "text/plain": [
              "array([[[ 1,  2,  3],\n",
              "        [ 4,  5,  6]],\n",
              "\n",
              "       [[ 7,  8,  9],\n",
              "        [10, 11, 12]]])"
            ]
          },
          "metadata": {},
          "execution_count": 76
        }
      ]
    },
    {
      "cell_type": "code",
      "metadata": {
        "colab": {
          "base_uri": "https://localhost:8080/"
        },
        "id": "FitC4kiSMj-B",
        "outputId": "fd3d521b-f237-4aa8-b984-d39c756b17fd"
      },
      "source": [
        "vector = np.arange(1, 10)\n",
        "matrix = vector.reshape(3, -1)\n",
        "tensor = matrix.reshape(3, 3, -1)\n",
        "print(vector)\n",
        "print(matrix)\n",
        "print(tensor)"
      ],
      "execution_count": null,
      "outputs": [
        {
          "output_type": "stream",
          "name": "stdout",
          "text": [
            "[1 2 3 4 5 6 7 8 9]\n",
            "[[1 2 3]\n",
            " [4 5 6]\n",
            " [7 8 9]]\n",
            "[[[1]\n",
            "  [2]\n",
            "  [3]]\n",
            "\n",
            " [[4]\n",
            "  [5]\n",
            "  [6]]\n",
            "\n",
            " [[7]\n",
            "  [8]\n",
            "  [9]]]\n"
          ]
        }
      ]
    },
    {
      "cell_type": "code",
      "metadata": {
        "colab": {
          "base_uri": "https://localhost:8080/"
        },
        "id": "HoXizXZkMqbQ",
        "outputId": "1c609f31-dd1c-4001-9c20-5d9d8ec34b9e"
      },
      "source": [
        "print(id(vector))\n",
        "print(id(matrix))\n",
        "print(id(tensor))"
      ],
      "execution_count": null,
      "outputs": [
        {
          "output_type": "stream",
          "name": "stdout",
          "text": [
            "140592891868224\n",
            "140592790289664\n",
            "140592789796784\n"
          ]
        }
      ]
    },
    {
      "cell_type": "code",
      "metadata": {
        "colab": {
          "base_uri": "https://localhost:8080/"
        },
        "id": "SG1T2fMiMwTB",
        "outputId": "ebe01de2-d0f5-455a-ca42-2bee74d5efe2"
      },
      "source": [
        "matrix[1, 1] = 5566\n",
        "matrix"
      ],
      "execution_count": null,
      "outputs": [
        {
          "output_type": "execute_result",
          "data": {
            "text/plain": [
              "array([[   1,    2,    3],\n",
              "       [   4, 5566,    6],\n",
              "       [   7,    8,    9]])"
            ]
          },
          "metadata": {},
          "execution_count": 84
        }
      ]
    },
    {
      "cell_type": "code",
      "metadata": {
        "colab": {
          "base_uri": "https://localhost:8080/"
        },
        "id": "AlxI6Qq1NEhZ",
        "outputId": "84df6e01-8eab-4b89-dc7d-584847979750"
      },
      "source": [
        "vector"
      ],
      "execution_count": null,
      "outputs": [
        {
          "output_type": "execute_result",
          "data": {
            "text/plain": [
              "array([   1,    2,    3,    4, 5566,    6,    7,    8,    9])"
            ]
          },
          "metadata": {},
          "execution_count": 85
        }
      ]
    },
    {
      "cell_type": "code",
      "metadata": {
        "colab": {
          "base_uri": "https://localhost:8080/"
        },
        "id": "gWnFED0dNSJY",
        "outputId": "f9b3530b-b7d9-4931-a158-ccf960de8a42"
      },
      "source": [
        "tensor"
      ],
      "execution_count": null,
      "outputs": [
        {
          "output_type": "execute_result",
          "data": {
            "text/plain": [
              "array([[[   1],\n",
              "        [   2],\n",
              "        [   3]],\n",
              "\n",
              "       [[   4],\n",
              "        [5566],\n",
              "        [   6]],\n",
              "\n",
              "       [[   7],\n",
              "        [   8],\n",
              "        [   9]]])"
            ]
          },
          "metadata": {},
          "execution_count": 86
        }
      ]
    },
    {
      "cell_type": "code",
      "metadata": {
        "colab": {
          "base_uri": "https://localhost:8080/"
        },
        "id": "MvFCEsj_NyBy",
        "outputId": "6f0d2920-8df0-4cc3-8a76-f58d285f4f35"
      },
      "source": [
        "vector = np.arange(1, 10)\n",
        "matrix = vector.copy().reshape(3, -1)\n",
        "matrix[1, 1] = 5566\n",
        "matrix"
      ],
      "execution_count": null,
      "outputs": [
        {
          "output_type": "execute_result",
          "data": {
            "text/plain": [
              "array([[   1,    2,    3],\n",
              "       [   4, 5566,    6],\n",
              "       [   7,    8,    9]])"
            ]
          },
          "metadata": {},
          "execution_count": 87
        }
      ]
    },
    {
      "cell_type": "code",
      "metadata": {
        "colab": {
          "base_uri": "https://localhost:8080/"
        },
        "id": "l1wo36rhOGdK",
        "outputId": "4c59d5c3-1716-44fe-e8de-911ba7d27cf1"
      },
      "source": [
        "vector"
      ],
      "execution_count": null,
      "outputs": [
        {
          "output_type": "execute_result",
          "data": {
            "text/plain": [
              "array([1, 2, 3, 4, 5, 6, 7, 8, 9])"
            ]
          },
          "metadata": {},
          "execution_count": 89
        }
      ]
    },
    {
      "cell_type": "code",
      "metadata": {
        "colab": {
          "base_uri": "https://localhost:8080/"
        },
        "id": "jky_Yzs3OJlR",
        "outputId": "98b4f2b4-157e-4a03-f4b5-3fec215f19f4"
      },
      "source": [
        "arr_a = np.arange(1, 5).reshape(2, 2)\n",
        "arr_b = np.arange(5, 9).reshape(2, 2)\n",
        "print(arr_b)\n",
        "print(arr_a)"
      ],
      "execution_count": null,
      "outputs": [
        {
          "output_type": "stream",
          "name": "stdout",
          "text": [
            "[[5 6]\n",
            " [7 8]]\n",
            "[[1 2]\n",
            " [3 4]]\n"
          ]
        }
      ]
    },
    {
      "cell_type": "code",
      "metadata": {
        "colab": {
          "base_uri": "https://localhost:8080/"
        },
        "id": "FWH7qIHAOc9Y",
        "outputId": "567ef0b9-22c9-48f0-d325-45e4b986a8f4"
      },
      "source": [
        "np.concatenate((arr_a, arr_b))"
      ],
      "execution_count": null,
      "outputs": [
        {
          "output_type": "execute_result",
          "data": {
            "text/plain": [
              "array([[1, 2],\n",
              "       [3, 4],\n",
              "       [5, 6],\n",
              "       [7, 8]])"
            ]
          },
          "metadata": {},
          "execution_count": 93
        }
      ]
    },
    {
      "cell_type": "code",
      "metadata": {
        "colab": {
          "base_uri": "https://localhost:8080/"
        },
        "id": "09qgyvArOzqi",
        "outputId": "9d95b0c2-f8e6-4d21-9a34-bc032ccde7fe"
      },
      "source": [
        "np.concatenate((arr_a, arr_b), axis=1)"
      ],
      "execution_count": null,
      "outputs": [
        {
          "output_type": "execute_result",
          "data": {
            "text/plain": [
              "array([[1, 2, 5, 6],\n",
              "       [3, 4, 7, 8]])"
            ]
          },
          "metadata": {},
          "execution_count": 94
        }
      ]
    },
    {
      "cell_type": "code",
      "metadata": {
        "colab": {
          "base_uri": "https://localhost:8080/"
        },
        "id": "BaZ_Rx30O2w4",
        "outputId": "15820ff5-d52a-4718-b25c-9ba32910a9cd"
      },
      "source": [
        "np.vstack((arr_a, arr_b))"
      ],
      "execution_count": null,
      "outputs": [
        {
          "output_type": "execute_result",
          "data": {
            "text/plain": [
              "array([[1, 2],\n",
              "       [3, 4],\n",
              "       [5, 6],\n",
              "       [7, 8]])"
            ]
          },
          "metadata": {},
          "execution_count": 95
        }
      ]
    },
    {
      "cell_type": "code",
      "metadata": {
        "colab": {
          "base_uri": "https://localhost:8080/"
        },
        "id": "u8_lKLZzPMUR",
        "outputId": "b5138bce-8fce-4b0b-8735-80ffaad1854c"
      },
      "source": [
        "np.hstack((arr_a, arr_b))"
      ],
      "execution_count": null,
      "outputs": [
        {
          "output_type": "execute_result",
          "data": {
            "text/plain": [
              "array([[1, 2, 5, 6],\n",
              "       [3, 4, 7, 8]])"
            ]
          },
          "metadata": {},
          "execution_count": 96
        }
      ]
    },
    {
      "cell_type": "code",
      "metadata": {
        "colab": {
          "base_uri": "https://localhost:8080/"
        },
        "id": "_IiaT60RPWmZ",
        "outputId": "6735194d-b354-4df9-ef19-151813841c4c"
      },
      "source": [
        "arr = np.arange(20).reshape(10, -1)\n",
        "upper_arr, lower_arr = np.split(arr, 2)\n",
        "left_arr, right_arr = np.split(arr, 2, axis=1)\n",
        "print(upper_arr)\n",
        "print(lower_arr)\n",
        "print(left_arr)\n",
        "print(right_arr)"
      ],
      "execution_count": null,
      "outputs": [
        {
          "output_type": "stream",
          "name": "stdout",
          "text": [
            "[[0 1]\n",
            " [2 3]\n",
            " [4 5]\n",
            " [6 7]\n",
            " [8 9]]\n",
            "[[10 11]\n",
            " [12 13]\n",
            " [14 15]\n",
            " [16 17]\n",
            " [18 19]]\n",
            "[[ 0]\n",
            " [ 2]\n",
            " [ 4]\n",
            " [ 6]\n",
            " [ 8]\n",
            " [10]\n",
            " [12]\n",
            " [14]\n",
            " [16]\n",
            " [18]]\n",
            "[[ 1]\n",
            " [ 3]\n",
            " [ 5]\n",
            " [ 7]\n",
            " [ 9]\n",
            " [11]\n",
            " [13]\n",
            " [15]\n",
            " [17]\n",
            " [19]]\n"
          ]
        }
      ]
    },
    {
      "cell_type": "code",
      "metadata": {
        "colab": {
          "base_uri": "https://localhost:8080/"
        },
        "id": "d1N81kCbQLgZ",
        "outputId": "017ac2ae-d22e-4e1a-febb-f72461ce023d"
      },
      "source": [
        "np.split(arr, [3])"
      ],
      "execution_count": null,
      "outputs": [
        {
          "output_type": "execute_result",
          "data": {
            "text/plain": [
              "[array([[0, 1],\n",
              "        [2, 3],\n",
              "        [4, 5]]), array([[ 6,  7],\n",
              "        [ 8,  9],\n",
              "        [10, 11],\n",
              "        [12, 13],\n",
              "        [14, 15],\n",
              "        [16, 17],\n",
              "        [18, 19]])]"
            ]
          },
          "metadata": {},
          "execution_count": 110
        }
      ]
    },
    {
      "cell_type": "code",
      "metadata": {
        "colab": {
          "base_uri": "https://localhost:8080/"
        },
        "id": "HpumO_0GRES6",
        "outputId": "fddb8bb4-7ccc-4dda-a379-27e8226043ae"
      },
      "source": [
        "np.vsplit(arr, [3])"
      ],
      "execution_count": null,
      "outputs": [
        {
          "output_type": "execute_result",
          "data": {
            "text/plain": [
              "[array([[0, 1],\n",
              "        [2, 3],\n",
              "        [4, 5]]), array([[ 6,  7],\n",
              "        [ 8,  9],\n",
              "        [10, 11],\n",
              "        [12, 13],\n",
              "        [14, 15],\n",
              "        [16, 17],\n",
              "        [18, 19]])]"
            ]
          },
          "metadata": {},
          "execution_count": 111
        }
      ]
    },
    {
      "cell_type": "code",
      "metadata": {
        "colab": {
          "base_uri": "https://localhost:8080/"
        },
        "id": "CTBSk2IJRJny",
        "outputId": "205994b0-0d7d-4f00-e7f6-af3a08040d19"
      },
      "source": [
        "abs(-5566)"
      ],
      "execution_count": null,
      "outputs": [
        {
          "output_type": "execute_result",
          "data": {
            "text/plain": [
              "5566"
            ]
          },
          "metadata": {},
          "execution_count": 112
        }
      ]
    },
    {
      "cell_type": "code",
      "metadata": {
        "colab": {
          "base_uri": "https://localhost:8080/"
        },
        "id": "i4eA9h-ERo2Y",
        "outputId": "a2fd0a09-a55f-4865-c48b-ca39420d0d99"
      },
      "source": [
        "lst = [-5, -5, -6, -6]\n",
        "list(map(abs, lst))"
      ],
      "execution_count": null,
      "outputs": [
        {
          "output_type": "execute_result",
          "data": {
            "text/plain": [
              "[5, 5, 6, 6]"
            ]
          },
          "metadata": {},
          "execution_count": 114
        }
      ]
    },
    {
      "cell_type": "code",
      "metadata": {
        "colab": {
          "base_uri": "https://localhost:8080/"
        },
        "id": "7R9BHrEKR11h",
        "outputId": "e67f70cb-8190-4896-9fd3-f6999d554d37"
      },
      "source": [
        "np.abs(lst)"
      ],
      "execution_count": null,
      "outputs": [
        {
          "output_type": "execute_result",
          "data": {
            "text/plain": [
              "array([5, 5, 6, 6])"
            ]
          },
          "metadata": {},
          "execution_count": 115
        }
      ]
    },
    {
      "cell_type": "code",
      "metadata": {
        "colab": {
          "base_uri": "https://localhost:8080/"
        },
        "id": "6ql328DlSAro",
        "outputId": "55d40444-8395-43cb-8035-de84dc4c64d4"
      },
      "source": [
        "def is_prime(x):\n",
        "    if x == 2 or x == 3:\n",
        "        return True\n",
        "    if x % 2 == 0 or x < 2:\n",
        "        return False\n",
        "    square_root = int(x**0.5)\n",
        "    for i in range(3, square_root + 1, 2):\n",
        "        if x % i == 0:\n",
        "            return False\n",
        "    return True\n",
        "print(type(is_prime))\n",
        "print(is_prime(9))"
      ],
      "execution_count": null,
      "outputs": [
        {
          "output_type": "stream",
          "name": "stdout",
          "text": [
            "<class 'function'>\n",
            "False\n"
          ]
        }
      ]
    },
    {
      "cell_type": "code",
      "metadata": {
        "colab": {
          "base_uri": "https://localhost:8080/"
        },
        "id": "3D65nJlGSskR",
        "outputId": "46787669-8eff-4548-ea76-066983a9845e"
      },
      "source": [
        "list(map(is_prime, [1, 2, 3, 4, 5]))"
      ],
      "execution_count": null,
      "outputs": [
        {
          "output_type": "execute_result",
          "data": {
            "text/plain": [
              "[False, True, True, False, True]"
            ]
          },
          "metadata": {},
          "execution_count": 121
        }
      ]
    },
    {
      "cell_type": "code",
      "metadata": {
        "colab": {
          "base_uri": "https://localhost:8080/"
        },
        "id": "0U_wE0bVS4TY",
        "outputId": "914fa527-28ac-4ee9-af45-b406b0487ca8"
      },
      "source": [
        "is_prime_ufunc = np.vectorize(is_prime)\n",
        "type(is_prime_ufunc)"
      ],
      "execution_count": null,
      "outputs": [
        {
          "output_type": "execute_result",
          "data": {
            "text/plain": [
              "numpy.vectorize"
            ]
          },
          "metadata": {},
          "execution_count": 122
        }
      ]
    },
    {
      "cell_type": "code",
      "metadata": {
        "colab": {
          "base_uri": "https://localhost:8080/"
        },
        "id": "jk-HDA1KTBpP",
        "outputId": "187ce6b0-5f1e-48a2-fbce-6a3eed7d677e"
      },
      "source": [
        "is_prime_ufunc([1, 2, 3, 4, 5])"
      ],
      "execution_count": null,
      "outputs": [
        {
          "output_type": "execute_result",
          "data": {
            "text/plain": [
              "array([False,  True,  True, False,  True])"
            ]
          },
          "metadata": {},
          "execution_count": 123
        }
      ]
    },
    {
      "cell_type": "code",
      "metadata": {
        "colab": {
          "base_uri": "https://localhost:8080/"
        },
        "id": "A4qqZ-cbTIp_",
        "outputId": "5737161c-aa39-4ae3-f57f-7818ef9f0193"
      },
      "source": [
        "in_arr = np.arange(20).reshape(10, -1)\n",
        "print(in_arr.shape)\n",
        "out_arr = np.power(in_arr, 2)\n",
        "print(out_arr.shape)"
      ],
      "execution_count": null,
      "outputs": [
        {
          "output_type": "stream",
          "name": "stdout",
          "text": [
            "(10, 2)\n",
            "(10, 2)\n"
          ]
        }
      ]
    },
    {
      "cell_type": "code",
      "metadata": {
        "colab": {
          "base_uri": "https://localhost:8080/"
        },
        "id": "Htin96IYTxnY",
        "outputId": "8c688809-f31a-462c-dde2-05efb4b3be94"
      },
      "source": [
        "print(np.sum(in_arr)) # ()\n",
        "print(np.sum(in_arr, axis=0)) # (2,)\n",
        "print(np.sum(in_arr, axis=1)) # (10,)"
      ],
      "execution_count": null,
      "outputs": [
        {
          "output_type": "stream",
          "name": "stdout",
          "text": [
            "190\n",
            "[ 90 100]\n",
            "[ 1  5  9 13 17 21 25 29 33 37]\n"
          ]
        }
      ]
    },
    {
      "cell_type": "code",
      "metadata": {
        "colab": {
          "base_uri": "https://localhost:8080/"
        },
        "id": "CBlx8dwlUt77",
        "outputId": "7fa501cc-8c84-47bd-b57b-c1264e014935"
      },
      "source": [
        "print(np.sum(in_arr, keepdims=True)) # (1, 1)\n",
        "print(np.sum(in_arr, axis=0, keepdims=True)) # (1, 2)\n",
        "print(np.sum(in_arr, axis=1, keepdims=True)) # (10, 1)"
      ],
      "execution_count": null,
      "outputs": [
        {
          "output_type": "stream",
          "name": "stdout",
          "text": [
            "[[190]]\n",
            "[[ 90 100]]\n",
            "[[ 1]\n",
            " [ 5]\n",
            " [ 9]\n",
            " [13]\n",
            " [17]\n",
            " [21]\n",
            " [25]\n",
            " [29]\n",
            " [33]\n",
            " [37]]\n"
          ]
        }
      ]
    },
    {
      "cell_type": "code",
      "metadata": {
        "colab": {
          "base_uri": "https://localhost:8080/"
        },
        "id": "DiU7lKxeVYfJ",
        "outputId": "531573b7-9567-4b85-8dd2-cf298336ac53"
      },
      "source": [
        "print(np.nan)\n",
        "print(type(np.nan))"
      ],
      "execution_count": null,
      "outputs": [
        {
          "output_type": "stream",
          "name": "stdout",
          "text": [
            "nan\n",
            "<class 'float'>\n"
          ]
        }
      ]
    },
    {
      "cell_type": "code",
      "metadata": {
        "colab": {
          "base_uri": "https://localhost:8080/"
        },
        "id": "HJ3XJY3sV6PQ",
        "outputId": "bb661fb9-47bc-4f20-e696-cb50658c2ada"
      },
      "source": [
        "arr = np.arange(1, 16, dtype=float).reshape(5, 3)\n",
        "arr[-1, -1] = np.nan\n",
        "arr"
      ],
      "execution_count": null,
      "outputs": [
        {
          "output_type": "execute_result",
          "data": {
            "text/plain": [
              "array([[ 1.,  2.,  3.],\n",
              "       [ 4.,  5.,  6.],\n",
              "       [ 7.,  8.,  9.],\n",
              "       [10., 11., 12.],\n",
              "       [13., 14., nan]])"
            ]
          },
          "metadata": {},
          "execution_count": 144
        }
      ]
    },
    {
      "cell_type": "code",
      "metadata": {
        "colab": {
          "base_uri": "https://localhost:8080/"
        },
        "id": "GhBHjxKjWN7y",
        "outputId": "177af0a4-ebd5-4849-f880-08f31b02afcb"
      },
      "source": [
        "np.sum(arr)"
      ],
      "execution_count": null,
      "outputs": [
        {
          "output_type": "execute_result",
          "data": {
            "text/plain": [
              "nan"
            ]
          },
          "metadata": {},
          "execution_count": 145
        }
      ]
    },
    {
      "cell_type": "code",
      "metadata": {
        "colab": {
          "base_uri": "https://localhost:8080/"
        },
        "id": "JTn15MjIWQcY",
        "outputId": "db18b22f-18cc-4547-b66c-7678d0aac25a"
      },
      "source": [
        "print(np.sum(arr, axis=0))\n",
        "print(np.sum(arr, axis=1))"
      ],
      "execution_count": null,
      "outputs": [
        {
          "output_type": "stream",
          "name": "stdout",
          "text": [
            "[35. 40. nan]\n",
            "[ 6. 15. 24. 33. nan]\n"
          ]
        }
      ]
    },
    {
      "cell_type": "code",
      "metadata": {
        "colab": {
          "base_uri": "https://localhost:8080/"
        },
        "id": "pYjL7G8SWbE4",
        "outputId": "9885bea6-66ca-4c59-98e2-ab86651bcf01"
      },
      "source": [
        "np.nansum(arr)"
      ],
      "execution_count": null,
      "outputs": [
        {
          "output_type": "execute_result",
          "data": {
            "text/plain": [
              "105.0"
            ]
          },
          "metadata": {},
          "execution_count": 148
        }
      ]
    },
    {
      "cell_type": "code",
      "metadata": {
        "colab": {
          "base_uri": "https://localhost:8080/"
        },
        "id": "L_Te-OQ_WgBa",
        "outputId": "7feb8ef9-c52e-4d8d-82a6-90c65fe8da4e"
      },
      "source": [
        "print(np.nanmean(arr, axis=0))\n",
        "print(np.nanmean(arr, axis=1))"
      ],
      "execution_count": null,
      "outputs": [
        {
          "output_type": "stream",
          "name": "stdout",
          "text": [
            "[7.  8.  7.5]\n",
            "[ 2.   5.   8.  11.  13.5]\n"
          ]
        }
      ]
    },
    {
      "cell_type": "code",
      "metadata": {
        "colab": {
          "base_uri": "https://localhost:8080/"
        },
        "id": "mSUzxpOTaXK3",
        "outputId": "7cb9c7d1-64e0-43c1-86f9-8824c609970c"
      },
      "source": [
        "np.eye(5)"
      ],
      "execution_count": null,
      "outputs": [
        {
          "output_type": "execute_result",
          "data": {
            "text/plain": [
              "array([[1., 0., 0., 0., 0.],\n",
              "       [0., 1., 0., 0., 0.],\n",
              "       [0., 0., 1., 0., 0.],\n",
              "       [0., 0., 0., 1., 0.],\n",
              "       [0., 0., 0., 0., 1.]])"
            ]
          },
          "metadata": {},
          "execution_count": 151
        }
      ]
    },
    {
      "cell_type": "code",
      "metadata": {
        "colab": {
          "base_uri": "https://localhost:8080/"
        },
        "id": "TsQEYXTSaoAH",
        "outputId": "6d0e2d44-c4ed-4c4b-c2a6-921ca6bfd698"
      },
      "source": [
        "vector = np.array([5, 5, 6, 6])\n",
        "vector * vector # element-wise multiplication"
      ],
      "execution_count": null,
      "outputs": [
        {
          "output_type": "execute_result",
          "data": {
            "text/plain": [
              "array([25, 25, 36, 36])"
            ]
          },
          "metadata": {},
          "execution_count": 153
        }
      ]
    },
    {
      "cell_type": "code",
      "metadata": {
        "colab": {
          "base_uri": "https://localhost:8080/"
        },
        "id": "JAR2l91dasyO",
        "outputId": "86617337-be6e-4582-d89e-a8994fdabf7e"
      },
      "source": [
        "np.dot(vector, vector)"
      ],
      "execution_count": null,
      "outputs": [
        {
          "output_type": "execute_result",
          "data": {
            "text/plain": [
              "122"
            ]
          },
          "metadata": {},
          "execution_count": 159
        }
      ]
    },
    {
      "cell_type": "code",
      "metadata": {
        "colab": {
          "base_uri": "https://localhost:8080/"
        },
        "id": "drUKMZT7bQ3I",
        "outputId": "bb6cffc6-3bdf-4a6d-8ae9-12b90811c027"
      },
      "source": [
        "matrix = vector.reshape(2, -2)\n",
        "matrix * matrix # element-wise multiplication"
      ],
      "execution_count": null,
      "outputs": [
        {
          "output_type": "execute_result",
          "data": {
            "text/plain": [
              "array([[25, 25],\n",
              "       [36, 36]])"
            ]
          },
          "metadata": {},
          "execution_count": 160
        }
      ]
    },
    {
      "cell_type": "code",
      "metadata": {
        "colab": {
          "base_uri": "https://localhost:8080/"
        },
        "id": "JFSJ4_XKbfjt",
        "outputId": "f46aa0bf-78fd-4438-979e-64a10f9a1c36"
      },
      "source": [
        "np.dot(matrix, matrix)"
      ],
      "execution_count": null,
      "outputs": [
        {
          "output_type": "execute_result",
          "data": {
            "text/plain": [
              "array([[55, 55],\n",
              "       [66, 66]])"
            ]
          },
          "metadata": {},
          "execution_count": 161
        }
      ]
    },
    {
      "cell_type": "code",
      "metadata": {
        "colab": {
          "base_uri": "https://localhost:8080/"
        },
        "id": "7ZEYTD2abl4e",
        "outputId": "29d2773d-c04f-44fd-fec0-1663e168da3f"
      },
      "source": [
        "vector.dot(vector)"
      ],
      "execution_count": null,
      "outputs": [
        {
          "output_type": "execute_result",
          "data": {
            "text/plain": [
              "122"
            ]
          },
          "metadata": {},
          "execution_count": 162
        }
      ]
    },
    {
      "cell_type": "code",
      "metadata": {
        "colab": {
          "base_uri": "https://localhost:8080/"
        },
        "id": "9gPNrZuhcDxP",
        "outputId": "725d572d-6f40-47b2-c544-991c9612b217"
      },
      "source": [
        "matrix.dot(matrix)"
      ],
      "execution_count": null,
      "outputs": [
        {
          "output_type": "execute_result",
          "data": {
            "text/plain": [
              "array([[55, 55],\n",
              "       [66, 66]])"
            ]
          },
          "metadata": {},
          "execution_count": 163
        }
      ]
    },
    {
      "cell_type": "code",
      "metadata": {
        "colab": {
          "base_uri": "https://localhost:8080/"
        },
        "id": "tGnQ8h0kcGVv",
        "outputId": "4507c6d0-3295-4ad7-f25e-8e9bac37d95d"
      },
      "source": [
        "matrix = np.arange(6).reshape(2, 3)\n",
        "print(matrix)\n",
        "print(np.transpose(matrix))"
      ],
      "execution_count": null,
      "outputs": [
        {
          "output_type": "stream",
          "name": "stdout",
          "text": [
            "[[0 1 2]\n",
            " [3 4 5]]\n",
            "[[0 3]\n",
            " [1 4]\n",
            " [2 5]]\n"
          ]
        }
      ]
    },
    {
      "cell_type": "code",
      "metadata": {
        "colab": {
          "base_uri": "https://localhost:8080/"
        },
        "id": "BtwyJk1ucXbO",
        "outputId": "db3dd9a4-f382-4d5d-e2ab-4c4af0f6124b"
      },
      "source": [
        "matrix"
      ],
      "execution_count": null,
      "outputs": [
        {
          "output_type": "execute_result",
          "data": {
            "text/plain": [
              "array([[0, 1, 2],\n",
              "       [3, 4, 5]])"
            ]
          },
          "metadata": {},
          "execution_count": 166
        }
      ]
    },
    {
      "cell_type": "code",
      "metadata": {
        "colab": {
          "base_uri": "https://localhost:8080/"
        },
        "id": "cjtde9UUcfa-",
        "outputId": "18ef1347-a7da-4345-9cf6-f943acf195ab"
      },
      "source": [
        "matrix.T"
      ],
      "execution_count": null,
      "outputs": [
        {
          "output_type": "execute_result",
          "data": {
            "text/plain": [
              "array([[0, 3],\n",
              "       [1, 4],\n",
              "       [2, 5]])"
            ]
          },
          "metadata": {},
          "execution_count": 167
        }
      ]
    },
    {
      "cell_type": "code",
      "metadata": {
        "colab": {
          "base_uri": "https://localhost:8080/"
        },
        "id": "kpyzeN-qclRu",
        "outputId": "f67ed76e-000e-46a5-a712-718a743985a2"
      },
      "source": [
        "A = np.array([1, 2, 3, 4]).reshape(2, 2)\n",
        "B = np.array([5, 6, 7, 8]).reshape(2, 2)\n",
        "print(A)\n",
        "print(B)\n",
        "# AX = B\n",
        "# X = ?\n",
        "A_inv = np.linalg.inv(A)\n",
        "print(A_inv)\n",
        "X = np.dot(A_inv, B)\n",
        "print(X)"
      ],
      "execution_count": null,
      "outputs": [
        {
          "output_type": "stream",
          "name": "stdout",
          "text": [
            "[[1 2]\n",
            " [3 4]]\n",
            "[[5 6]\n",
            " [7 8]]\n",
            "[[-2.   1. ]\n",
            " [ 1.5 -0.5]]\n",
            "[[-3. -4.]\n",
            " [ 4.  5.]]\n"
          ]
        }
      ]
    },
    {
      "cell_type": "markdown",
      "metadata": {
        "id": "I7ztIJzFGxL_"
      },
      "source": [
        "## 2021-11-30\n",
        "\n",
        "- [02-以 Scikit-Learn 做機器學習](https://datainpoint.github.io/classroom-ml-from-scratch/02-sklearn.slides.html)\n",
        "- [02-練習題](https://mybinder.org/v2/gh/datainpoint/classroom-ml-from-scratch/HEAD?labpath=02-exercises%2Fexercises.ipynb)\n",
        "- [03-數值預測的任務](https://datainpoint.github.io/classroom-ml-from-scratch/03-regression.slides.html)\n",
        "- [03-練習題](https://mybinder.org/v2/gh/datainpoint/classroom-ml-from-scratch/HEAD?labpath=03-exercises%2Fexercises.ipynb)"
      ]
    },
    {
      "cell_type": "code",
      "metadata": {
        "id": "0Yzd2YJbGyeT",
        "colab": {
          "base_uri": "https://localhost:8080/"
        },
        "outputId": "578567b0-582d-4d58-b860-4f673f336d73"
      },
      "source": [
        "import pandas as pd\n",
        "\n",
        "csv_url = \"https://raw.githubusercontent.com/yaojenkuo/ml-newbies/master/player_stats.csv\"\n",
        "player_stats = pd.read_csv(csv_url)\n",
        "type(player_stats)"
      ],
      "execution_count": null,
      "outputs": [
        {
          "output_type": "execute_result",
          "data": {
            "text/plain": [
              "pandas.core.frame.DataFrame"
            ]
          },
          "metadata": {},
          "execution_count": 1
        }
      ]
    },
    {
      "cell_type": "code",
      "metadata": {
        "colab": {
          "base_uri": "https://localhost:8080/"
        },
        "id": "iJqUYUW_hQLp",
        "outputId": "2476d1f8-3148-4083-a3c4-f7bd3147d544"
      },
      "source": [
        "player_stats.shape"
      ],
      "execution_count": null,
      "outputs": [
        {
          "output_type": "execute_result",
          "data": {
            "text/plain": [
              "(503, 50)"
            ]
          },
          "metadata": {},
          "execution_count": 2
        }
      ]
    },
    {
      "cell_type": "code",
      "metadata": {
        "colab": {
          "base_uri": "https://localhost:8080/",
          "height": 278
        },
        "id": "DIjvYRGVhUv_",
        "outputId": "22498783-3a9c-4b64-d1e5-f64e6b1320b1"
      },
      "source": [
        "player_stats.head()"
      ],
      "execution_count": null,
      "outputs": [
        {
          "output_type": "execute_result",
          "data": {
            "text/html": [
              "<div>\n",
              "<style scoped>\n",
              "    .dataframe tbody tr th:only-of-type {\n",
              "        vertical-align: middle;\n",
              "    }\n",
              "\n",
              "    .dataframe tbody tr th {\n",
              "        vertical-align: top;\n",
              "    }\n",
              "\n",
              "    .dataframe thead th {\n",
              "        text-align: right;\n",
              "    }\n",
              "</style>\n",
              "<table border=\"1\" class=\"dataframe\">\n",
              "  <thead>\n",
              "    <tr style=\"text-align: right;\">\n",
              "      <th></th>\n",
              "      <th>firstName</th>\n",
              "      <th>lastName</th>\n",
              "      <th>temporaryDisplayName</th>\n",
              "      <th>personId</th>\n",
              "      <th>teamId</th>\n",
              "      <th>jersey</th>\n",
              "      <th>isActive</th>\n",
              "      <th>pos</th>\n",
              "      <th>heightFeet</th>\n",
              "      <th>heightInches</th>\n",
              "      <th>heightMeters</th>\n",
              "      <th>weightPounds</th>\n",
              "      <th>weightKilograms</th>\n",
              "      <th>dateOfBirthUTC</th>\n",
              "      <th>nbaDebutYear</th>\n",
              "      <th>yearsPro</th>\n",
              "      <th>collegeName</th>\n",
              "      <th>lastAffiliation</th>\n",
              "      <th>country</th>\n",
              "      <th>isallStar</th>\n",
              "      <th>tpp</th>\n",
              "      <th>ftp</th>\n",
              "      <th>fgp</th>\n",
              "      <th>ppg</th>\n",
              "      <th>rpg</th>\n",
              "      <th>apg</th>\n",
              "      <th>bpg</th>\n",
              "      <th>mpg</th>\n",
              "      <th>spg</th>\n",
              "      <th>assists</th>\n",
              "      <th>blocks</th>\n",
              "      <th>steals</th>\n",
              "      <th>turnovers</th>\n",
              "      <th>offReb</th>\n",
              "      <th>defReb</th>\n",
              "      <th>totReb</th>\n",
              "      <th>fgm</th>\n",
              "      <th>fga</th>\n",
              "      <th>tpm</th>\n",
              "      <th>tpa</th>\n",
              "      <th>ftm</th>\n",
              "      <th>fta</th>\n",
              "      <th>pFouls</th>\n",
              "      <th>points</th>\n",
              "      <th>gamesPlayed</th>\n",
              "      <th>gamesStarted</th>\n",
              "      <th>plusMinus</th>\n",
              "      <th>min</th>\n",
              "      <th>dd2</th>\n",
              "      <th>td3</th>\n",
              "    </tr>\n",
              "  </thead>\n",
              "  <tbody>\n",
              "    <tr>\n",
              "      <th>0</th>\n",
              "      <td>Precious</td>\n",
              "      <td>Achiuwa</td>\n",
              "      <td>Achiuwa, Precious</td>\n",
              "      <td>1630173</td>\n",
              "      <td>1610612748</td>\n",
              "      <td>5.0</td>\n",
              "      <td>True</td>\n",
              "      <td>F</td>\n",
              "      <td>6</td>\n",
              "      <td>8</td>\n",
              "      <td>2.03</td>\n",
              "      <td>225</td>\n",
              "      <td>102.1</td>\n",
              "      <td>1999-09-19</td>\n",
              "      <td>2020.0</td>\n",
              "      <td>0</td>\n",
              "      <td>Memphis</td>\n",
              "      <td>Memphis/Nigeria</td>\n",
              "      <td>Nigeria</td>\n",
              "      <td>NaN</td>\n",
              "      <td>0.0</td>\n",
              "      <td>50.9</td>\n",
              "      <td>54.4</td>\n",
              "      <td>5.0</td>\n",
              "      <td>3.4</td>\n",
              "      <td>0.5</td>\n",
              "      <td>0.5</td>\n",
              "      <td>12.1</td>\n",
              "      <td>0.3</td>\n",
              "      <td>29.0</td>\n",
              "      <td>28.0</td>\n",
              "      <td>20.0</td>\n",
              "      <td>43.0</td>\n",
              "      <td>73.0</td>\n",
              "      <td>135.0</td>\n",
              "      <td>208.0</td>\n",
              "      <td>124.0</td>\n",
              "      <td>228.0</td>\n",
              "      <td>0.0</td>\n",
              "      <td>1.0</td>\n",
              "      <td>56.0</td>\n",
              "      <td>110.0</td>\n",
              "      <td>91.0</td>\n",
              "      <td>304.0</td>\n",
              "      <td>61.0</td>\n",
              "      <td>4.0</td>\n",
              "      <td>-116.0</td>\n",
              "      <td>737.0</td>\n",
              "      <td>3.0</td>\n",
              "      <td>0.0</td>\n",
              "    </tr>\n",
              "    <tr>\n",
              "      <th>1</th>\n",
              "      <td>Steven</td>\n",
              "      <td>Adams</td>\n",
              "      <td>Adams, Steven</td>\n",
              "      <td>203500</td>\n",
              "      <td>1610612740</td>\n",
              "      <td>12.0</td>\n",
              "      <td>True</td>\n",
              "      <td>C</td>\n",
              "      <td>6</td>\n",
              "      <td>11</td>\n",
              "      <td>2.11</td>\n",
              "      <td>265</td>\n",
              "      <td>120.2</td>\n",
              "      <td>1993-07-20</td>\n",
              "      <td>2013.0</td>\n",
              "      <td>7</td>\n",
              "      <td>Pittsburgh</td>\n",
              "      <td>Pittsburgh/New Zealand</td>\n",
              "      <td>New Zealand</td>\n",
              "      <td>NaN</td>\n",
              "      <td>7.7</td>\n",
              "      <td>54.8</td>\n",
              "      <td>59.1</td>\n",
              "      <td>9.6</td>\n",
              "      <td>7.7</td>\n",
              "      <td>1.2</td>\n",
              "      <td>1.0</td>\n",
              "      <td>26.9</td>\n",
              "      <td>0.9</td>\n",
              "      <td>726.0</td>\n",
              "      <td>569.0</td>\n",
              "      <td>523.0</td>\n",
              "      <td>835.0</td>\n",
              "      <td>2036.0</td>\n",
              "      <td>2507.0</td>\n",
              "      <td>4543.0</td>\n",
              "      <td>2346.0</td>\n",
              "      <td>3972.0</td>\n",
              "      <td>1.0</td>\n",
              "      <td>13.0</td>\n",
              "      <td>936.0</td>\n",
              "      <td>1708.0</td>\n",
              "      <td>1497.0</td>\n",
              "      <td>5629.0</td>\n",
              "      <td>588.0</td>\n",
              "      <td>524.0</td>\n",
              "      <td>1638.0</td>\n",
              "      <td>15812.0</td>\n",
              "      <td>125.0</td>\n",
              "      <td>1.0</td>\n",
              "    </tr>\n",
              "    <tr>\n",
              "      <th>2</th>\n",
              "      <td>Bam</td>\n",
              "      <td>Adebayo</td>\n",
              "      <td>Adebayo, Bam</td>\n",
              "      <td>1628389</td>\n",
              "      <td>1610612748</td>\n",
              "      <td>13.0</td>\n",
              "      <td>True</td>\n",
              "      <td>C-F</td>\n",
              "      <td>6</td>\n",
              "      <td>9</td>\n",
              "      <td>2.06</td>\n",
              "      <td>255</td>\n",
              "      <td>115.7</td>\n",
              "      <td>1997-07-18</td>\n",
              "      <td>2017.0</td>\n",
              "      <td>3</td>\n",
              "      <td>Kentucky</td>\n",
              "      <td>Kentucky/USA</td>\n",
              "      <td>USA</td>\n",
              "      <td>NaN</td>\n",
              "      <td>15.9</td>\n",
              "      <td>73.8</td>\n",
              "      <td>55.9</td>\n",
              "      <td>12.4</td>\n",
              "      <td>8.0</td>\n",
              "      <td>3.5</td>\n",
              "      <td>0.9</td>\n",
              "      <td>27.3</td>\n",
              "      <td>0.9</td>\n",
              "      <td>999.0</td>\n",
              "      <td>265.0</td>\n",
              "      <td>260.0</td>\n",
              "      <td>560.0</td>\n",
              "      <td>601.0</td>\n",
              "      <td>1685.0</td>\n",
              "      <td>2286.0</td>\n",
              "      <td>1350.0</td>\n",
              "      <td>2416.0</td>\n",
              "      <td>7.0</td>\n",
              "      <td>44.0</td>\n",
              "      <td>842.0</td>\n",
              "      <td>1141.0</td>\n",
              "      <td>668.0</td>\n",
              "      <td>3549.0</td>\n",
              "      <td>287.0</td>\n",
              "      <td>183.0</td>\n",
              "      <td>258.0</td>\n",
              "      <td>7840.0</td>\n",
              "      <td>91.0</td>\n",
              "      <td>5.0</td>\n",
              "    </tr>\n",
              "    <tr>\n",
              "      <th>3</th>\n",
              "      <td>Ty-Shon</td>\n",
              "      <td>Alexander</td>\n",
              "      <td>Alexander, Ty-Shon</td>\n",
              "      <td>1630234</td>\n",
              "      <td>1610612756</td>\n",
              "      <td>0.0</td>\n",
              "      <td>True</td>\n",
              "      <td>G</td>\n",
              "      <td>6</td>\n",
              "      <td>3</td>\n",
              "      <td>1.90</td>\n",
              "      <td>195</td>\n",
              "      <td>88.5</td>\n",
              "      <td>1998-07-16</td>\n",
              "      <td>2020.0</td>\n",
              "      <td>0</td>\n",
              "      <td>Creighton</td>\n",
              "      <td>Creighton/USA</td>\n",
              "      <td>USA</td>\n",
              "      <td>NaN</td>\n",
              "      <td>22.2</td>\n",
              "      <td>50.0</td>\n",
              "      <td>25.0</td>\n",
              "      <td>0.6</td>\n",
              "      <td>0.7</td>\n",
              "      <td>0.4</td>\n",
              "      <td>0.1</td>\n",
              "      <td>3.1</td>\n",
              "      <td>0.0</td>\n",
              "      <td>6.0</td>\n",
              "      <td>1.0</td>\n",
              "      <td>0.0</td>\n",
              "      <td>3.0</td>\n",
              "      <td>2.0</td>\n",
              "      <td>8.0</td>\n",
              "      <td>10.0</td>\n",
              "      <td>3.0</td>\n",
              "      <td>12.0</td>\n",
              "      <td>2.0</td>\n",
              "      <td>9.0</td>\n",
              "      <td>1.0</td>\n",
              "      <td>2.0</td>\n",
              "      <td>2.0</td>\n",
              "      <td>9.0</td>\n",
              "      <td>15.0</td>\n",
              "      <td>0.0</td>\n",
              "      <td>-8.0</td>\n",
              "      <td>47.0</td>\n",
              "      <td>0.0</td>\n",
              "      <td>0.0</td>\n",
              "    </tr>\n",
              "    <tr>\n",
              "      <th>4</th>\n",
              "      <td>Nickeil</td>\n",
              "      <td>Alexander-Walker</td>\n",
              "      <td>Alexander-Walker, Nickeil</td>\n",
              "      <td>1629638</td>\n",
              "      <td>1610612740</td>\n",
              "      <td>6.0</td>\n",
              "      <td>True</td>\n",
              "      <td>G</td>\n",
              "      <td>6</td>\n",
              "      <td>6</td>\n",
              "      <td>1.98</td>\n",
              "      <td>205</td>\n",
              "      <td>93.0</td>\n",
              "      <td>1998-09-02</td>\n",
              "      <td>2019.0</td>\n",
              "      <td>1</td>\n",
              "      <td>Virginia Tech</td>\n",
              "      <td>Virginia Tech/Canada</td>\n",
              "      <td>Canada</td>\n",
              "      <td>NaN</td>\n",
              "      <td>34.7</td>\n",
              "      <td>70.9</td>\n",
              "      <td>40.1</td>\n",
              "      <td>8.3</td>\n",
              "      <td>2.5</td>\n",
              "      <td>2.1</td>\n",
              "      <td>0.3</td>\n",
              "      <td>17.2</td>\n",
              "      <td>0.7</td>\n",
              "      <td>191.0</td>\n",
              "      <td>30.0</td>\n",
              "      <td>64.0</td>\n",
              "      <td>123.0</td>\n",
              "      <td>22.0</td>\n",
              "      <td>206.0</td>\n",
              "      <td>228.0</td>\n",
              "      <td>290.0</td>\n",
              "      <td>724.0</td>\n",
              "      <td>122.0</td>\n",
              "      <td>352.0</td>\n",
              "      <td>73.0</td>\n",
              "      <td>103.0</td>\n",
              "      <td>145.0</td>\n",
              "      <td>775.0</td>\n",
              "      <td>93.0</td>\n",
              "      <td>14.0</td>\n",
              "      <td>-105.0</td>\n",
              "      <td>1597.0</td>\n",
              "      <td>0.0</td>\n",
              "      <td>0.0</td>\n",
              "    </tr>\n",
              "  </tbody>\n",
              "</table>\n",
              "</div>"
            ],
            "text/plain": [
              "  firstName          lastName       temporaryDisplayName  ...      min    dd2  td3\n",
              "0  Precious           Achiuwa          Achiuwa, Precious  ...    737.0    3.0  0.0\n",
              "1    Steven             Adams              Adams, Steven  ...  15812.0  125.0  1.0\n",
              "2       Bam           Adebayo               Adebayo, Bam  ...   7840.0   91.0  5.0\n",
              "3   Ty-Shon         Alexander         Alexander, Ty-Shon  ...     47.0    0.0  0.0\n",
              "4   Nickeil  Alexander-Walker  Alexander-Walker, Nickeil  ...   1597.0    0.0  0.0\n",
              "\n",
              "[5 rows x 50 columns]"
            ]
          },
          "metadata": {},
          "execution_count": 3
        }
      ]
    },
    {
      "cell_type": "code",
      "metadata": {
        "colab": {
          "base_uri": "https://localhost:8080/"
        },
        "id": "fOdSI2Djhdj2",
        "outputId": "a95475ce-ef38-4455-b8e0-0df1ea57aef0"
      },
      "source": [
        "X = player_stats[[\"apg\", \"rpg\"]].values\n",
        "y = player_stats[\"heightMeters\"].values\n",
        "print(X.shape)\n",
        "print(y.shape)"
      ],
      "execution_count": null,
      "outputs": [
        {
          "output_type": "stream",
          "name": "stdout",
          "text": [
            "(503, 2)\n",
            "(503,)\n"
          ]
        }
      ]
    },
    {
      "cell_type": "code",
      "metadata": {
        "colab": {
          "base_uri": "https://localhost:8080/"
        },
        "id": "taMK-DqLiKWQ",
        "outputId": "f531c2b6-775c-47a1-8354-378636ddfa5c"
      },
      "source": [
        "X = player_stats[[\"weightKilograms\"]].values\n",
        "y = player_stats[\"heightMeters\"].values\n",
        "print(X.shape)\n",
        "print(y.shape)"
      ],
      "execution_count": null,
      "outputs": [
        {
          "output_type": "stream",
          "name": "stdout",
          "text": [
            "(503, 1)\n",
            "(503,)\n"
          ]
        }
      ]
    },
    {
      "cell_type": "code",
      "metadata": {
        "id": "kOVNeKhWid-4"
      },
      "source": [
        "from sklearn.preprocessing import PolynomialFeatures\n",
        "from sklearn.preprocessing import StandardScaler\n",
        "from sklearn.linear_model import LinearRegression\n",
        "from sklearn.linear_model import Ridge\n",
        "\n",
        "# transformers\n",
        "pf = PolynomialFeatures()\n",
        "ss = StandardScaler()\n",
        "# predictors\n",
        "lr = LinearRegression()\n",
        "ridge = Ridge()"
      ],
      "execution_count": null,
      "outputs": []
    },
    {
      "cell_type": "code",
      "metadata": {
        "colab": {
          "base_uri": "https://localhost:8080/"
        },
        "id": "szsFlZwMkDMZ",
        "outputId": "ff847036-0555-4169-98a6-6f7d427e0c95"
      },
      "source": [
        "print(\"fit_transform\" in dir(pf))\n",
        "print(\"fit_transform\" in dir(ss))\n",
        "print(\"fit\" in dir(lr))\n",
        "print(\"predict\" in dir(lr))\n",
        "print(\"fit\" in dir(ridge))\n",
        "print(\"predict\" in dir(ridge))"
      ],
      "execution_count": null,
      "outputs": [
        {
          "output_type": "stream",
          "name": "stdout",
          "text": [
            "True\n",
            "True\n",
            "True\n",
            "True\n",
            "True\n",
            "True\n"
          ]
        }
      ]
    },
    {
      "cell_type": "code",
      "metadata": {
        "id": "Zno0aVAFocqK"
      },
      "source": [
        "X_pf = pf.fit_transform(X)\n",
        "X_ss = ss.fit_transform(X)"
      ],
      "execution_count": null,
      "outputs": []
    },
    {
      "cell_type": "code",
      "metadata": {
        "colab": {
          "base_uri": "https://localhost:8080/"
        },
        "id": "GdDkegmtprXf",
        "outputId": "c4fa5da9-f969-48f5-f1b9-e5e84872af9b"
      },
      "source": [
        "print(\"intercept_\" in dir(lr))\n",
        "print(\"coef_\" in dir(lr))\n",
        "print(\"intercept_\" in dir(ridge))\n",
        "print(\"coef_\" in dir(ridge))"
      ],
      "execution_count": null,
      "outputs": [
        {
          "output_type": "stream",
          "name": "stdout",
          "text": [
            "False\n",
            "False\n",
            "False\n",
            "False\n"
          ]
        }
      ]
    },
    {
      "cell_type": "code",
      "metadata": {
        "colab": {
          "base_uri": "https://localhost:8080/"
        },
        "id": "ExIXSm5jpXzy",
        "outputId": "ff719575-0e14-40b9-e22f-4e14f8d66b5b"
      },
      "source": [
        "lr.fit(X, y)\n",
        "ridge.fit(X, y)"
      ],
      "execution_count": null,
      "outputs": [
        {
          "output_type": "execute_result",
          "data": {
            "text/plain": [
              "Ridge()"
            ]
          },
          "metadata": {},
          "execution_count": 43
        }
      ]
    },
    {
      "cell_type": "code",
      "metadata": {
        "colab": {
          "base_uri": "https://localhost:8080/"
        },
        "id": "MqSnQxtppkDP",
        "outputId": "dd502c1f-8897-4cbf-dc21-7621b641c8f0"
      },
      "source": [
        "print(\"intercept_\" in dir(lr))\n",
        "print(\"coef_\" in dir(lr))\n",
        "print(\"intercept_\" in dir(ridge))\n",
        "print(\"coef_\" in dir(ridge))"
      ],
      "execution_count": null,
      "outputs": [
        {
          "output_type": "stream",
          "name": "stdout",
          "text": [
            "True\n",
            "True\n",
            "True\n",
            "True\n"
          ]
        }
      ]
    },
    {
      "cell_type": "code",
      "metadata": {
        "colab": {
          "base_uri": "https://localhost:8080/"
        },
        "id": "Ti7DqXr8ql_R",
        "outputId": "ea69ceaf-1f5e-4aab-d220-14cf0330c2ae"
      },
      "source": [
        "print(pf.get_params())\n",
        "print(X_pf)"
      ],
      "execution_count": null,
      "outputs": [
        {
          "output_type": "stream",
          "name": "stdout",
          "text": [
            "{'degree': 2, 'include_bias': True, 'interaction_only': False, 'order': 'C'}\n",
            "[[1.000000e+00 1.021000e+02 1.042441e+04]\n",
            " [1.000000e+00 1.202000e+02 1.444804e+04]\n",
            " [1.000000e+00 1.157000e+02 1.338649e+04]\n",
            " ...\n",
            " [1.000000e+00 1.247000e+02 1.555009e+04]\n",
            " [1.000000e+00 1.089000e+02 1.185921e+04]\n",
            " [1.000000e+00 1.089000e+02 1.185921e+04]]\n"
          ]
        }
      ]
    },
    {
      "cell_type": "code",
      "metadata": {
        "colab": {
          "base_uri": "https://localhost:8080/"
        },
        "id": "yHW4QYy2rXuC",
        "outputId": "12628280-151a-4c16-8d32-4a5ea91c341e"
      },
      "source": [
        "print(ss.mean_)\n",
        "print(ss.scale_)"
      ],
      "execution_count": null,
      "outputs": [
        {
          "output_type": "stream",
          "name": "stdout",
          "text": [
            "[98.33101392]\n",
            "[11.30829989]\n"
          ]
        }
      ]
    },
    {
      "cell_type": "code",
      "metadata": {
        "colab": {
          "base_uri": "https://localhost:8080/"
        },
        "id": "CngGJzdbsQUY",
        "outputId": "c28726f2-d3a4-4672-ce50-895038b4669a"
      },
      "source": [
        "print(lr.intercept_)\n",
        "print(lr.coef_)\n",
        "print(ridge.alpha)"
      ],
      "execution_count": null,
      "outputs": [
        {
          "output_type": "stream",
          "name": "stdout",
          "text": [
            "1.4247321084521878\n",
            "[0.00573609]\n",
            "1.0\n"
          ]
        }
      ]
    },
    {
      "cell_type": "code",
      "metadata": {
        "colab": {
          "base_uri": "https://localhost:8080/"
        },
        "id": "taoCIAExsgzh",
        "outputId": "7d4d373f-59a3-4e7f-85ee-2ebba22e356c"
      },
      "source": [
        "lr.predict([[80]])"
      ],
      "execution_count": null,
      "outputs": [
        {
          "output_type": "execute_result",
          "data": {
            "text/plain": [
              "array([1.8836191])"
            ]
          },
          "metadata": {},
          "execution_count": 56
        }
      ]
    },
    {
      "cell_type": "code",
      "metadata": {
        "colab": {
          "base_uri": "https://localhost:8080/"
        },
        "id": "TLfS4Z8Bs2hY",
        "outputId": "25b9b22d-b05e-42cc-96f0-2844358627f5"
      },
      "source": [
        "lr.intercept_ + 80 * lr.coef_"
      ],
      "execution_count": null,
      "outputs": [
        {
          "output_type": "execute_result",
          "data": {
            "text/plain": [
              "array([1.8836191])"
            ]
          },
          "metadata": {},
          "execution_count": 57
        }
      ]
    },
    {
      "cell_type": "code",
      "metadata": {
        "colab": {
          "base_uri": "https://localhost:8080/"
        },
        "id": "X6P8Shouteqx",
        "outputId": "dc79e2ea-cb57-42fb-dd22-4732cc53c884"
      },
      "source": [
        "print(type(lr.intercept_))\n",
        "print(type(lr.coef_))"
      ],
      "execution_count": null,
      "outputs": [
        {
          "output_type": "stream",
          "name": "stdout",
          "text": [
            "<class 'numpy.float64'>\n",
            "<class 'numpy.ndarray'>\n"
          ]
        }
      ]
    },
    {
      "cell_type": "code",
      "metadata": {
        "colab": {
          "base_uri": "https://localhost:8080/"
        },
        "id": "qN1AiAFAthqA",
        "outputId": "a1f237cd-0a60-41fa-9856-e174c3916331"
      },
      "source": [
        "train = pd.read_csv(\"https://raw.githubusercontent.com/datainpoint/classroom-ml-from-scratch/main/data/titanic/train.csv\")\n",
        "test = pd.read_csv(\"https://raw.githubusercontent.com/datainpoint/classroom-ml-from-scratch/main/data/titanic/test.csv\")\n",
        "train_columns = train.columns\n",
        "test_columns = test.columns\n",
        "train_columns.difference(test_columns)"
      ],
      "execution_count": null,
      "outputs": [
        {
          "output_type": "execute_result",
          "data": {
            "text/plain": [
              "Index(['Survived'], dtype='object')"
            ]
          },
          "metadata": {},
          "execution_count": 63
        }
      ]
    },
    {
      "cell_type": "code",
      "metadata": {
        "colab": {
          "base_uri": "https://localhost:8080/"
        },
        "id": "ZZnaPamSx3jg",
        "outputId": "76ab2c1e-3f78-4ecc-8954-54edf293a85e"
      },
      "source": [
        "train = pd.read_csv(\"https://raw.githubusercontent.com/datainpoint/classroom-ml-from-scratch/main/data/house-prices/train.csv\")\n",
        "test = pd.read_csv(\"https://raw.githubusercontent.com/datainpoint/classroom-ml-from-scratch/main/data/house-prices/test.csv\")\n",
        "train_columns = train.columns\n",
        "test_columns = test.columns\n",
        "train_columns.difference(test_columns)"
      ],
      "execution_count": null,
      "outputs": [
        {
          "output_type": "execute_result",
          "data": {
            "text/plain": [
              "Index(['SalePrice'], dtype='object')"
            ]
          },
          "metadata": {},
          "execution_count": 64
        }
      ]
    },
    {
      "cell_type": "code",
      "metadata": {
        "colab": {
          "base_uri": "https://localhost:8080/"
        },
        "id": "z0S0U4P_yFgf",
        "outputId": "be73a952-d0f2-466c-b84d-0f6cd589fb16"
      },
      "source": [
        "from sklearn.model_selection import train_test_split\n",
        "\n",
        "X = train[[\"GrLivArea\"]].values\n",
        "y = train[\"SalePrice\"].values\n",
        "X_train, X_valid = train_test_split(X, test_size=0.3)\n",
        "print(X.shape)\n",
        "print(X_train.shape)\n",
        "print(X_valid.shape)"
      ],
      "execution_count": null,
      "outputs": [
        {
          "output_type": "stream",
          "name": "stdout",
          "text": [
            "(1460, 1)\n",
            "(1022, 1)\n",
            "(438, 1)\n"
          ]
        }
      ]
    },
    {
      "cell_type": "code",
      "metadata": {
        "colab": {
          "base_uri": "https://localhost:8080/"
        },
        "id": "6AE0kibB10Nr",
        "outputId": "c9f73fa6-86a3-42c3-8474-4b98726a035b"
      },
      "source": [
        "X_train, X_valid, y_train, y_valid = train_test_split(X, y, test_size=0.3)\n",
        "print(X.shape)\n",
        "print(y.shape)\n",
        "print(X_train.shape)\n",
        "print(X_valid.shape)\n",
        "print(y_train.shape)\n",
        "print(y_valid.shape)"
      ],
      "execution_count": null,
      "outputs": [
        {
          "output_type": "stream",
          "name": "stdout",
          "text": [
            "(1460, 1)\n",
            "(1460,)\n",
            "(1022, 1)\n",
            "(438, 1)\n",
            "(1022,)\n",
            "(438,)\n"
          ]
        }
      ]
    },
    {
      "cell_type": "code",
      "metadata": {
        "colab": {
          "base_uri": "https://localhost:8080/"
        },
        "id": "q6L0a3zx18AY",
        "outputId": "3981e117-529d-4fc0-80fb-f0befed2d893"
      },
      "source": [
        "player_stats = pd.read_csv(csv_url)\n",
        "X = player_stats[['heightMeters', 'apg', 'rpg']].values\n",
        "y = player_stats['weightKilograms'].values\n",
        "print(X.shape)\n",
        "print(y.shape)"
      ],
      "execution_count": null,
      "outputs": [
        {
          "output_type": "stream",
          "name": "stdout",
          "text": [
            "(503, 3)\n",
            "(503,)\n"
          ]
        }
      ]
    },
    {
      "cell_type": "code",
      "metadata": {
        "colab": {
          "base_uri": "https://localhost:8080/"
        },
        "id": "mkzSN6p93FSo",
        "outputId": "f59a95c6-2fbc-4d49-b8c6-62a6fa278c58"
      },
      "source": [
        "X_train, X_valid, y_train, y_valid = train_test_split(X, y, test_size=0.2, random_state=42)\n",
        "lr = LinearRegression()\n",
        "ridge = Ridge()\n",
        "lr.fit(X_train, y_train)\n",
        "ridge.fit(X_train, y_train)\n",
        "print(lr.coef_)\n",
        "print(ridge.coef_)"
      ],
      "execution_count": null,
      "outputs": [
        {
          "output_type": "stream",
          "name": "stdout",
          "text": [
            "[70.55073073 -1.03712458  1.61454939]\n",
            "[41.71730648 -1.79495279  2.2969704 ]\n"
          ]
        }
      ]
    },
    {
      "cell_type": "code",
      "metadata": {
        "colab": {
          "base_uri": "https://localhost:8080/"
        },
        "id": "_dZnkVMs4_Pl",
        "outputId": "71765b56-4ff5-44a1-b7d8-2ad6a3ff9d27"
      },
      "source": [
        "from sklearn.metrics import mean_squared_error\n",
        "\n",
        "y_hat = lr.predict(X_valid)\n",
        "mse_lr = mean_squared_error(y_valid, y_hat)\n",
        "y_hat = ridge.predict(X_valid)\n",
        "mse_ridge = mean_squared_error(y_valid, y_hat)\n",
        "print(mse_lr)\n",
        "print(mse_ridge)"
      ],
      "execution_count": null,
      "outputs": [
        {
          "output_type": "stream",
          "name": "stdout",
          "text": [
            "53.63580742285257\n",
            "60.24990556598571\n"
          ]
        }
      ]
    },
    {
      "cell_type": "code",
      "metadata": {
        "colab": {
          "base_uri": "https://localhost:8080/"
        },
        "id": "FjMVnvkC7JiD",
        "outputId": "5ae7a580-a28e-4af3-d005-b579776036af"
      },
      "source": [
        "pos_dict = {\n",
        "    'G': 0,\n",
        "    'F': 1,\n",
        "    'C': 2\n",
        "}\n",
        "pos_recoded = player_stats['pos'].map(lambda x: x[0])\n",
        "pos_recoded_int = pos_recoded.map(pos_dict)\n",
        "X = player_stats[['heightMeters', 'apg', 'rpg']].values\n",
        "y = pos_recoded_int.values\n",
        "print(X.shape)\n",
        "print(y.shape)"
      ],
      "execution_count": null,
      "outputs": [
        {
          "output_type": "stream",
          "name": "stdout",
          "text": [
            "(503, 3)\n",
            "(503,)\n"
          ]
        }
      ]
    },
    {
      "cell_type": "code",
      "metadata": {
        "colab": {
          "base_uri": "https://localhost:8080/"
        },
        "id": "3c7p5EQT7jtq",
        "outputId": "7238c5dd-fbdc-4bf3-dc0f-26271e5d94f2"
      },
      "source": [
        "from sklearn.linear_model import LogisticRegression\n",
        "from sklearn.svm import SVC\n",
        "\n",
        "X_train, X_valid, y_train, y_valid = train_test_split(X, y, test_size=0.2, random_state=42)\n",
        "logreg = LogisticRegression()\n",
        "svc = SVC(kernel='linear', probability=True)\n",
        "logreg.fit(X_train, y_train)\n",
        "svc.fit(X_train, y_train)\n",
        "print(logreg.coef_)\n",
        "print(svc.coef_)"
      ],
      "execution_count": null,
      "outputs": [
        {
          "output_type": "stream",
          "name": "stdout",
          "text": [
            "[[-2.79855675  1.44081639 -1.11626655]\n",
            " [ 0.77311683 -0.181357    0.29423135]\n",
            " [ 2.02543992 -1.2594594   0.8220352 ]]\n",
            "[[-3.56870681  1.17220423 -1.02617682]\n",
            " [-2.28        1.07865176 -0.67415719]\n",
            " [-2.06        0.55268973 -0.26909661]]\n"
          ]
        }
      ]
    },
    {
      "cell_type": "code",
      "metadata": {
        "colab": {
          "base_uri": "https://localhost:8080/"
        },
        "id": "TJ9I_1B48wba",
        "outputId": "9fb9d3eb-422f-4026-ef85-ed1f3f2a23f1"
      },
      "source": [
        "logreg.predict(X_valid)"
      ],
      "execution_count": null,
      "outputs": [
        {
          "output_type": "execute_result",
          "data": {
            "text/plain": [
              "array([1, 1, 0, 1, 1, 1, 1, 0, 2, 0, 1, 2, 0, 1, 1, 0, 1, 1, 0, 0, 0, 1,\n",
              "       1, 0, 0, 0, 1, 2, 1, 1, 0, 1, 1, 0, 1, 0, 1, 0, 1, 0, 0, 0, 1, 0,\n",
              "       0, 0, 1, 0, 1, 2, 0, 1, 1, 1, 1, 0, 0, 1, 0, 0, 0, 1, 0, 0, 1, 1,\n",
              "       2, 1, 1, 1, 1, 0, 0, 0, 1, 0, 0, 1, 1, 2, 1, 0, 0, 1, 0, 0, 1, 1,\n",
              "       0, 1, 0, 1, 1, 0, 0, 0, 2, 0, 0, 0, 0])"
            ]
          },
          "metadata": {},
          "execution_count": 79
        }
      ]
    },
    {
      "cell_type": "code",
      "metadata": {
        "colab": {
          "base_uri": "https://localhost:8080/"
        },
        "id": "voYaM-MW9xDR",
        "outputId": "6d4d2aa1-c10f-4a3f-daad-f5eb00d6f5ac"
      },
      "source": [
        "logreg.predict_proba([[1.8, 5, 5]])"
      ],
      "execution_count": null,
      "outputs": [
        {
          "output_type": "execute_result",
          "data": {
            "text/plain": [
              "array([[9.74103278e-01, 2.57906578e-02, 1.06063724e-04]])"
            ]
          },
          "metadata": {},
          "execution_count": 86
        }
      ]
    },
    {
      "cell_type": "code",
      "metadata": {
        "colab": {
          "base_uri": "https://localhost:8080/"
        },
        "id": "7cj96eUF-WCK",
        "outputId": "5c110d9c-eae8-4df6-ec43-b3115d3e3edb"
      },
      "source": [
        "from sklearn.metrics import accuracy_score\n",
        "\n",
        "y_hat = logreg.predict(X_valid)\n",
        "print(accuracy_score(y_valid, y_hat))\n",
        "y_hat = svc.predict(X_valid)\n",
        "print(accuracy_score(y_valid, y_hat))"
      ],
      "execution_count": null,
      "outputs": [
        {
          "output_type": "stream",
          "name": "stdout",
          "text": [
            "0.7524752475247525\n",
            "0.7623762376237624\n"
          ]
        }
      ]
    },
    {
      "cell_type": "code",
      "metadata": {
        "colab": {
          "base_uri": "https://localhost:8080/"
        },
        "id": "wcdjKaPAWT25",
        "outputId": "0e23bce2-27bb-4fca-bc62-f5b0f6bbbe8a"
      },
      "source": [
        "from xgboost import XGBRegressor\n",
        "\n",
        "X = player_stats[['heightMeters', 'apg', 'rpg']].values\n",
        "y = player_stats['weightKilograms'].values\n",
        "X_train, X_valid, y_train, y_valid = train_test_split(X, y, test_size=0.2, random_state=42)\n",
        "xgb_r = XGBRegressor()\n",
        "xgb_r.fit(X_train, y_train)\n",
        "y_hat = xgb_r.predict(X_valid)\n",
        "mse_xgb_r = mean_squared_error(y_valid, y_hat)\n",
        "mse_xgb_r"
      ],
      "execution_count": null,
      "outputs": [
        {
          "output_type": "stream",
          "name": "stdout",
          "text": [
            "[05:47:09] WARNING: /workspace/src/objective/regression_obj.cu:152: reg:linear is now deprecated in favor of reg:squarederror.\n"
          ]
        },
        {
          "output_type": "execute_result",
          "data": {
            "text/plain": [
              "54.68768714025682"
            ]
          },
          "metadata": {},
          "execution_count": 99
        }
      ]
    },
    {
      "cell_type": "code",
      "metadata": {
        "colab": {
          "base_uri": "https://localhost:8080/"
        },
        "id": "aIsjSABNW84j",
        "outputId": "c1ccbe65-31d3-446e-dd97-757913c73cb1"
      },
      "source": [
        "from xgboost import XGBClassifier\n",
        "\n",
        "X = player_stats[['heightMeters', 'apg', 'rpg']].values\n",
        "y = pos_recoded_int.values\n",
        "X_train, X_valid, y_train, y_valid = train_test_split(X, y, test_size=0.2, random_state=42)\n",
        "xgb_c = XGBClassifier()\n",
        "xgb_c.fit(X_train, y_train)\n",
        "y_hat = xgb_c.predict(X_valid)\n",
        "acc_xgb_c = accuracy_score(y_valid, y_hat)\n",
        "acc_xgb_c"
      ],
      "execution_count": null,
      "outputs": [
        {
          "output_type": "execute_result",
          "data": {
            "text/plain": [
              "0.8712871287128713"
            ]
          },
          "metadata": {},
          "execution_count": 100
        }
      ]
    },
    {
      "cell_type": "code",
      "metadata": {
        "colab": {
          "base_uri": "https://localhost:8080/"
        },
        "id": "0cc0SMqNoog8",
        "outputId": "6c9f1902-de98-4eb9-f2be-4e6126cd396e"
      },
      "source": [
        "import numpy as np\n",
        "\n",
        "y = player_stats[\"weightKilograms\"].values\n",
        "y_train, y_valid = train_test_split(y, test_size=0.33, random_state=42)\n",
        "y_max, y_min = y.max(), y.min()\n",
        "y_hat = np.random.randint(low=y_min, high=y_max, size=y_valid.size)\n",
        "mse_chimp = np.sum((y_valid - y_hat)**2) / y_valid.size\n",
        "mse_chimp"
      ],
      "execution_count": null,
      "outputs": [
        {
          "output_type": "execute_result",
          "data": {
            "text/plain": [
              "537.3553012048193"
            ]
          },
          "metadata": {},
          "execution_count": 108
        }
      ]
    },
    {
      "cell_type": "code",
      "metadata": {
        "colab": {
          "base_uri": "https://localhost:8080/"
        },
        "id": "20yxEdREqhsB",
        "outputId": "f5516d8b-98d7-49bc-c11c-7fb9fbadf691"
      },
      "source": [
        "mean_weight_by_pos = player_stats.groupby(\"pos\")[\"weightKilograms\"].mean()\n",
        "mean_weight = player_stats[\"pos\"].map(mean_weight_by_pos).values\n",
        "mean_weight_train, y_hat = train_test_split(mean_weight, test_size=0.33, random_state=42)\n",
        "mse_expert = np.sum((y_valid - y_hat)**2) / y_valid.size\n",
        "mse_expert"
      ],
      "execution_count": null,
      "outputs": [
        {
          "output_type": "execute_result",
          "data": {
            "text/plain": [
              "50.668004006804786"
            ]
          },
          "metadata": {},
          "execution_count": 110
        }
      ]
    },
    {
      "cell_type": "code",
      "metadata": {
        "colab": {
          "base_uri": "https://localhost:8080/"
        },
        "id": "brJFPaTUsAJN",
        "outputId": "a4e07911-2a52-4eba-c5fe-4cc097b73680"
      },
      "source": [
        "X = player_stats[\"heightMeters\"].values.reshape(-1, 1)\n",
        "X_train, X_valid, y_train, y_valid = train_test_split(X, y, test_size=0.33, random_state=42)\n",
        "h = LinearRegression()\n",
        "h.fit(X_train, y_train)\n",
        "print(h.intercept_)\n",
        "print(h.coef_)\n",
        "y_hat = h.predict(X_valid)\n",
        "mse_ml = np.sum((y_valid - y_hat)**2) / y_valid.size\n",
        "mse_ml"
      ],
      "execution_count": null,
      "outputs": [
        {
          "output_type": "stream",
          "name": "stdout",
          "text": [
            "-95.14864145823769\n",
            "[97.25416437]\n"
          ]
        },
        {
          "output_type": "execute_result",
          "data": {
            "text/plain": [
              "62.807098266825335"
            ]
          },
          "metadata": {},
          "execution_count": 116
        }
      ]
    },
    {
      "cell_type": "code",
      "metadata": {
        "id": "Ye_vfwlgsptb"
      },
      "source": [
        "class NormalEquation:\n",
        "    \"\"\"\n",
        "    This class defines the Normal equation for linear regression.\n",
        "    Args:\n",
        "    fit_intercept (bool): Whether to add intercept for this model.\n",
        "    \"\"\"\n",
        "    def __init__(self, fit_intercept=True):\n",
        "        self._fit_intercept = fit_intercept\n",
        "    def fit(self, X_train, y_train):\n",
        "        \"\"\"\n",
        "        This function uses Normal equation to solve for weights of this model.\n",
        "        Args:\n",
        "        X_train (ndarray): 2d-array for feature matrix of training data.\n",
        "        y_train (ndarray): 1d-array for target vector of training data.\n",
        "        \"\"\"\n",
        "        self._X_train = X_train.copy()\n",
        "        self._y_train = y_train.copy()\n",
        "        m = self._X_train.shape[0]\n",
        "        if self._fit_intercept:\n",
        "            X0 = np.ones((m, 1), dtype=float)\n",
        "            self._X_train = np.concatenate([X0, self._X_train], axis=1)\n",
        "        X_train_T = np.transpose(self._X_train)\n",
        "        left_matrix = np.dot(X_train_T, self._X_train)\n",
        "        right_matrix = np.dot(X_train_T, self._y_train)\n",
        "        left_matrix_inv = np.linalg.inv(left_matrix)\n",
        "        w = np.dot(left_matrix_inv, right_matrix)\n",
        "        w_ravel = w.ravel().copy()\n",
        "        self._w = w\n",
        "        self.intercept_ = w_ravel[0]\n",
        "        self.coef_ = w_ravel[1:]\n",
        "    def predict(self, X_test):\n",
        "        \"\"\"\n",
        "        This function returns predicted values with weights of this model.\n",
        "        Args:\n",
        "        X_test (ndarray): 2d-array for feature matrix of test data.\n",
        "        \"\"\"\n",
        "        self._X_test = X_test.copy()\n",
        "        m = self._X_test.shape[0]\n",
        "        if self._fit_intercept:\n",
        "            X0 = np.ones((m, 1), dtype=float)\n",
        "        self._X_test = np.concatenate([X0, self._X_test], axis=1)\n",
        "        y_pred = np.dot(self._X_test, self._w)\n",
        "        return y_pred"
      ],
      "execution_count": null,
      "outputs": []
    },
    {
      "cell_type": "code",
      "metadata": {
        "colab": {
          "base_uri": "https://localhost:8080/"
        },
        "id": "zDb-rO4M3ftU",
        "outputId": "34f07f0f-12b2-402b-e048-561fe8052cd8"
      },
      "source": [
        "ne = NormalEquation()\n",
        "ne.fit(X_train, y_train)\n",
        "print(ne.intercept_)\n",
        "print(ne.coef_)\n",
        "y_hat = ne.predict(X_valid)\n",
        "mse_ne = np.sum((y_valid - y_hat)**2) / y_valid.size\n",
        "print(mse_ne)"
      ],
      "execution_count": null,
      "outputs": [
        {
          "output_type": "stream",
          "name": "stdout",
          "text": [
            "-95.14864145804579\n",
            "[97.25416437]\n",
            "62.8070982668432\n"
          ]
        }
      ]
    },
    {
      "cell_type": "code",
      "metadata": {
        "colab": {
          "base_uri": "https://localhost:8080/"
        },
        "id": "MZvgzBEy4pvA",
        "outputId": "26375891-a17b-4add-9e42-b5c7c5d640a8"
      },
      "source": [
        "ne.predict(np.array([[2.11]]))"
      ],
      "execution_count": null,
      "outputs": [
        {
          "output_type": "execute_result",
          "data": {
            "text/plain": [
              "array([110.05764537])"
            ]
          },
          "metadata": {},
          "execution_count": 120
        }
      ]
    },
    {
      "cell_type": "markdown",
      "metadata": {
        "id": "yctqLGdQGy3n"
      },
      "source": [
        "## 2021-12-01\n",
        "\n",
        "- [03-數值預測的任務](https://datainpoint.github.io/classroom-ml-from-scratch/03-regression.slides.html)\n",
        "- [03-練習題](https://mybinder.org/v2/gh/datainpoint/classroom-ml-from-scratch/HEAD?labpath=03-exercises%2Fexercises.ipynb)"
      ]
    },
    {
      "cell_type": "code",
      "metadata": {
        "id": "1dCkC35dG0Bl",
        "colab": {
          "base_uri": "https://localhost:8080/"
        },
        "outputId": "4dfa09b6-8774-49a0-cbba-14a38a1d458c"
      },
      "source": [
        "import numpy as np\n",
        "\n",
        "X0 = np.ones((10, 1))\n",
        "X1 = np.arange(1, 11).reshape(-1, 1)\n",
        "w = np.array([5, 6])\n",
        "X_train = np.concatenate([X0, X1], axis=1)\n",
        "y_train = np.dot(X_train, w)\n",
        "print(X_train) # (10, 2) dot (2,)\n",
        "print(y_train) # (10,)"
      ],
      "execution_count": null,
      "outputs": [
        {
          "output_type": "stream",
          "name": "stdout",
          "text": [
            "[[ 1.  1.]\n",
            " [ 1.  2.]\n",
            " [ 1.  3.]\n",
            " [ 1.  4.]\n",
            " [ 1.  5.]\n",
            " [ 1.  6.]\n",
            " [ 1.  7.]\n",
            " [ 1.  8.]\n",
            " [ 1.  9.]\n",
            " [ 1. 10.]]\n",
            "[11. 17. 23. 29. 35. 41. 47. 53. 59. 65.]\n"
          ]
        }
      ]
    },
    {
      "cell_type": "code",
      "metadata": {
        "colab": {
          "base_uri": "https://localhost:8080/"
        },
        "id": "cEQ6l7axm6Ns",
        "outputId": "4cd2293f-bcba-497d-feed-be5d43a58a97"
      },
      "source": [
        "n = X_train.shape[1]\n",
        "w = np.random.rand(2)\n",
        "y_hat = np.dot(X_train, w)\n",
        "m = y_train.size\n",
        "j = ((y_hat - y_train).T.dot(y_hat - y_train)) / m\n",
        "print(w)\n",
        "print(j)"
      ],
      "execution_count": null,
      "outputs": [
        {
          "output_type": "stream",
          "name": "stdout",
          "text": [
            "[0.46912468 0.33498373]\n",
            "1538.4288973572784\n"
          ]
        }
      ]
    },
    {
      "cell_type": "code",
      "metadata": {
        "colab": {
          "base_uri": "https://localhost:8080/"
        },
        "id": "_zR6zV0ppAG7",
        "outputId": "044b9f4b-a6f9-42ba-e72e-e7fcf7eb1b86"
      },
      "source": [
        "gradient = (2/m) * X_train.T.dot(y_hat - y_train)\n",
        "gradient"
      ],
      "execution_count": null,
      "outputs": [
        {
          "output_type": "execute_result",
          "data": {
            "text/plain": [
              "array([ -71.37692961, -486.04588134])"
            ]
          },
          "metadata": {},
          "execution_count": 13
        }
      ]
    },
    {
      "cell_type": "code",
      "metadata": {
        "colab": {
          "base_uri": "https://localhost:8080/"
        },
        "id": "KXz8qKd8qYji",
        "outputId": "4080d801-3ec0-4253-ac76-3cfea80c0598"
      },
      "source": [
        "learning_rate = 0.0001\n",
        "learning_rate * gradient"
      ],
      "execution_count": null,
      "outputs": [
        {
          "output_type": "execute_result",
          "data": {
            "text/plain": [
              "array([-0.00713769, -0.04860459])"
            ]
          },
          "metadata": {},
          "execution_count": 14
        }
      ]
    },
    {
      "cell_type": "code",
      "metadata": {
        "colab": {
          "base_uri": "https://localhost:8080/"
        },
        "id": "s5_1Sdmnq2cg",
        "outputId": "910ce770-6611-4b7f-a48d-2ee1b90e68fc"
      },
      "source": [
        "w -= learning_rate*gradient\n",
        "w"
      ],
      "execution_count": null,
      "outputs": [
        {
          "output_type": "execute_result",
          "data": {
            "text/plain": [
              "array([0.47626237, 0.38358832])"
            ]
          },
          "metadata": {},
          "execution_count": 15
        }
      ]
    },
    {
      "cell_type": "code",
      "metadata": {
        "colab": {
          "base_uri": "https://localhost:8080/"
        },
        "id": "4BiM6J3zq8Xv",
        "outputId": "b28f7a3d-c248-4f37-d39a-064bef374f02"
      },
      "source": [
        "y_hat = np.dot(X_train, w)\n",
        "j = ((y_hat - y_train).T.dot(y_hat - y_train)) / m\n",
        "j"
      ],
      "execution_count": null,
      "outputs": [
        {
          "output_type": "execute_result",
          "data": {
            "text/plain": [
              "1514.3901906207593"
            ]
          },
          "metadata": {},
          "execution_count": 16
        }
      ]
    },
    {
      "cell_type": "code",
      "metadata": {
        "colab": {
          "base_uri": "https://localhost:8080/"
        },
        "id": "gumqx0BYnr2n",
        "outputId": "cb720abc-b94d-44e9-81c2-c8fd1ab43db9"
      },
      "source": [
        "n = X_train.shape[1]\n",
        "w = np.random.rand(2)\n",
        "y_hat = np.dot(X_train, w)\n",
        "m = y_train.size\n",
        "learning_rate = 0.001\n",
        "epochs = 10000\n",
        "print_interval = int(epochs * 0.1)\n",
        "for i in range(epochs):\n",
        "    y_hat = np.dot(X_train, w)\n",
        "    m = y_train.size\n",
        "    j = ((y_hat - y_train).T.dot(y_hat - y_train)) / m # loss\n",
        "    gradient = (2/m) * X_train.T.dot(y_hat - y_train)\n",
        "    w -= learning_rate * gradient\n",
        "    if i % print_interval == 0:\n",
        "        print(f\"epochs: {i}; loss: {j}\")"
      ],
      "execution_count": null,
      "outputs": [
        {
          "output_type": "stream",
          "name": "stdout",
          "text": [
            "epochs: 0; loss: 1498.7830455346798\n",
            "epochs: 1000; loss: 1.0577413980173627\n",
            "epochs: 2000; loss: 0.45659960326241744\n",
            "epochs: 3000; loss: 0.19710223887443418\n",
            "epochs: 4000; loss: 0.08508393851359956\n",
            "epochs: 5000; loss: 0.03672853557791468\n",
            "epochs: 6000; loss: 0.01585475883303867\n",
            "epochs: 7000; loss: 0.006844089308176692\n",
            "epochs: 8000; loss: 0.002954416333390944\n",
            "epochs: 9000; loss: 0.0012753451157600849\n"
          ]
        }
      ]
    },
    {
      "cell_type": "code",
      "metadata": {
        "colab": {
          "base_uri": "https://localhost:8080/"
        },
        "id": "Xvd0T4NitD_3",
        "outputId": "bbd23b57-9c75-4972-d430-5b95b5f52699"
      },
      "source": [
        "print(w)"
      ],
      "execution_count": null,
      "outputs": [
        {
          "output_type": "stream",
          "name": "stdout",
          "text": [
            "[4.94931595 6.00728029]\n"
          ]
        }
      ]
    },
    {
      "cell_type": "code",
      "metadata": {
        "id": "r32G41sktlmH"
      },
      "source": [
        "class GradientDescent:\n",
        "    \"\"\"\n",
        "    This class defines the vanilla gradient descent algorithm for linear regression.\n",
        "    Args:\n",
        "        fit_intercept (bool): Whether to add intercept for this model.\n",
        "    \"\"\"\n",
        "    def __init__(self, fit_intercept=True):\n",
        "        self._fit_intercept = fit_intercept\n",
        "    def find_gradient(self):\n",
        "        \"\"\"\n",
        "        This function returns the gradient given certain model weights.\n",
        "        \"\"\"\n",
        "        y_hat = np.dot(self._X_train, self._w)\n",
        "        gradient = (2/self._m) * np.dot(self._X_train.T, y_hat - self._y_train)\n",
        "        return gradient\n",
        "    def mean_squared_error(self):\n",
        "        \"\"\"\n",
        "        This function returns the mean squared error given certain model weights.\n",
        "        \"\"\"\n",
        "        y_hat = np.dot(self._X_train, self._w)\n",
        "        mse = ((y_hat - self._y_train).T.dot(y_hat - self._y_train)) / self._m\n",
        "        return mse\n",
        "    def fit(self, X_train, y_train, epochs=10000, learning_rate=0.001):\n",
        "        \"\"\"\n",
        "        This function uses vanilla gradient descent to solve for weights of this model.\n",
        "        Args:\n",
        "            X_train (ndarray): 2d-array for feature matrix of training data.\n",
        "            y_train (ndarray): 1d-array for target vector of training data.\n",
        "            epochs (int): The number of iterations to update the model weights.\n",
        "            learning_rate (float): The learning rate of gradient descent.\n",
        "        \"\"\"\n",
        "        self._X_train = X_train.copy()\n",
        "        self._y_train = y_train.copy()\n",
        "        self._m = self._X_train.shape[0]\n",
        "        if self._fit_intercept:\n",
        "            X0 = np.ones((self._m, 1), dtype=float)\n",
        "            self._X_train = np.concatenate([X0, self._X_train], axis=1)\n",
        "        n = self._X_train.shape[1]\n",
        "        self._w = np.random.rand(n)\n",
        "        n_prints = 10\n",
        "        print_iter = epochs // n_prints\n",
        "        w_history = dict()\n",
        "        for i in range(epochs):\n",
        "            current_w = self._w.copy()\n",
        "            w_history[i] = current_w\n",
        "            mse = self.mean_squared_error()\n",
        "            gradient = self.find_gradient()\n",
        "            if i % print_iter == 0:\n",
        "                print(\"epoch: {:6} - loss: {:.6f}\".format(i, mse))\n",
        "            self._w -= learning_rate*gradient\n",
        "        w_ravel = self._w.copy().ravel()\n",
        "        self.intercept_ = w_ravel[0]\n",
        "        self.coef_ = w_ravel[1:]\n",
        "        self._w_history = w_history\n",
        "    def predict(self, X_test):\n",
        "        \"\"\"\n",
        "        This function returns predicted values with weights of this model.\n",
        "        Args:\n",
        "            X_test (ndarray): 2d-array for feature matrix of test data.\n",
        "        \"\"\"\n",
        "        self._X_test = X_test\n",
        "        m = self._X_test.shape[0]\n",
        "        if self._fit_intercept:\n",
        "            X0 = np.ones((m, 1), dtype=float)\n",
        "            self._X_test = np.concatenate([X0, self._X_test], axis=1)\n",
        "        y_pred = np.dot(self._X_test, self._w)\n",
        "        return y_pred"
      ],
      "execution_count": null,
      "outputs": []
    },
    {
      "cell_type": "code",
      "metadata": {
        "colab": {
          "base_uri": "https://localhost:8080/"
        },
        "id": "1QY0jV_ZuIcY",
        "outputId": "eaa17b7b-7bc7-4297-963e-104abc4656b8"
      },
      "source": [
        "gd = GradientDescent(fit_intercept=False)\n",
        "gd.fit(X_train, y_train, epochs=20000)"
      ],
      "execution_count": null,
      "outputs": [
        {
          "output_type": "stream",
          "name": "stdout",
          "text": [
            "epoch:      0 - loss: 1307.979636\n",
            "epoch:   2000 - loss: 0.550362\n",
            "epoch:   4000 - loss: 0.102556\n",
            "epoch:   6000 - loss: 0.019111\n",
            "epoch:   8000 - loss: 0.003561\n",
            "epoch:  10000 - loss: 0.000664\n",
            "epoch:  12000 - loss: 0.000124\n",
            "epoch:  14000 - loss: 0.000023\n",
            "epoch:  16000 - loss: 0.000004\n",
            "epoch:  18000 - loss: 0.000001\n"
          ]
        }
      ]
    },
    {
      "cell_type": "code",
      "metadata": {
        "colab": {
          "base_uri": "https://localhost:8080/"
        },
        "id": "dvgDNs70uY3o",
        "outputId": "c6b4f249-6364-4b5e-b774-41153bb511ee"
      },
      "source": [
        "print(gd.intercept_)\n",
        "print(gd.coef_)"
      ],
      "execution_count": null,
      "outputs": [
        {
          "output_type": "stream",
          "name": "stdout",
          "text": [
            "4.999165919251634\n",
            "[6.00011981]\n"
          ]
        }
      ]
    },
    {
      "cell_type": "code",
      "metadata": {
        "colab": {
          "base_uri": "https://localhost:8080/"
        },
        "id": "n6eGp325w2fO",
        "outputId": "82781581-b74c-43ce-fdf1-beb97a649322"
      },
      "source": [
        "import pandas as pd\n",
        "from sklearn.model_selection import train_test_split\n",
        "from sklearn.linear_model import LinearRegression\n",
        "\n",
        "csv_url = \"https://raw.githubusercontent.com/yaojenkuo/ml-newbies/master/player_stats.csv\"\n",
        "player_stats = pd.read_csv(csv_url)\n",
        "X = player_stats[[\"heightMeters\"]].values\n",
        "y = player_stats[\"weightKilograms\"].values\n",
        "X_train, X_valid, y_train, y_valid = train_test_split(X, y, test_size=0.33, random_state=42)\n",
        "model_sklearn = LinearRegression()\n",
        "model_sklearn.fit(X_train, y_train)\n",
        "print(model_sklearn.intercept_)\n",
        "print(model_sklearn.coef_)"
      ],
      "execution_count": null,
      "outputs": [
        {
          "output_type": "stream",
          "name": "stdout",
          "text": [
            "-95.14864145823769\n",
            "[97.25416437]\n"
          ]
        }
      ]
    },
    {
      "cell_type": "code",
      "metadata": {
        "colab": {
          "base_uri": "https://localhost:8080/"
        },
        "id": "ACNyfGU7yN8H",
        "outputId": "8f820fb6-603a-4610-929d-38aa1a8bfe2e"
      },
      "source": [
        "model_gd = GradientDescent()\n",
        "model_gd.fit(X_train, y_train, epochs=50000, learning_rate=0.1)"
      ],
      "execution_count": null,
      "outputs": [
        {
          "output_type": "stream",
          "name": "stdout",
          "text": [
            "epoch:      0 - loss: 9244.577214\n",
            "epoch:   5000 - loss: 50.106850\n",
            "epoch:  10000 - loss: 48.847453\n",
            "epoch:  15000 - loss: 48.778060\n",
            "epoch:  20000 - loss: 48.774237\n",
            "epoch:  25000 - loss: 48.774026\n",
            "epoch:  30000 - loss: 48.774014\n",
            "epoch:  35000 - loss: 48.774014\n",
            "epoch:  40000 - loss: 48.774014\n",
            "epoch:  45000 - loss: 48.774014\n"
          ]
        }
      ]
    },
    {
      "cell_type": "code",
      "metadata": {
        "colab": {
          "base_uri": "https://localhost:8080/"
        },
        "id": "T5sH5tcTyhOP",
        "outputId": "0c8c4145-effc-4041-f98f-40d944dbce7b"
      },
      "source": [
        "print(model_gd.intercept_)\n",
        "print(model_gd.coef_)"
      ],
      "execution_count": null,
      "outputs": [
        {
          "output_type": "stream",
          "name": "stdout",
          "text": [
            "-95.14858282403945\n",
            "[97.25413492]\n"
          ]
        }
      ]
    },
    {
      "cell_type": "code",
      "metadata": {
        "colab": {
          "base_uri": "https://localhost:8080/"
        },
        "id": "wEmHvCN80eaw",
        "outputId": "62e2dffe-43eb-4287-b9e4-1271b76d9a1d"
      },
      "source": [
        "model_gd.predict(X_valid)[:10]"
      ],
      "execution_count": null,
      "outputs": [
        {
          "output_type": "execute_result",
          "data": {
            "text/plain": [
              "array([ 95.46952162,  95.46952162,  92.55189757, 107.14001781,\n",
              "        97.41460431,  95.46952162, 102.27731106,  87.68919082,\n",
              "       116.8654313 , 100.33222836])"
            ]
          },
          "metadata": {},
          "execution_count": 46
        }
      ]
    },
    {
      "cell_type": "code",
      "metadata": {
        "colab": {
          "base_uri": "https://localhost:8080/"
        },
        "id": "KEuFyGnx0jTY",
        "outputId": "f8b0f46a-9037-4196-a1ef-a62b4b287e8d"
      },
      "source": [
        "y_valid[:10]"
      ],
      "execution_count": null,
      "outputs": [
        {
          "output_type": "execute_result",
          "data": {
            "text/plain": [
              "array([ 81.6,  95.3,  79.4, 105.7, 106.6,  99.8, 113.4,  83.9, 111.1,\n",
              "       108.9])"
            ]
          },
          "metadata": {},
          "execution_count": 47
        }
      ]
    },
    {
      "cell_type": "code",
      "metadata": {
        "colab": {
          "base_uri": "https://localhost:8080/"
        },
        "id": "8yCkMSFs05Fn",
        "outputId": "4cc3bd49-b6fe-4ebc-d1a4-ab4b1f5d3ede"
      },
      "source": [
        "train = pd.read_csv(\"https://raw.githubusercontent.com/datainpoint/classroom-ml-from-scratch/main/data/house-prices/train.csv\")\n",
        "X = train['GrLivArea'].values.reshape(-1, 1)\n",
        "y = train['SalePrice'].values\n",
        "X_train, X_valid, y_train, y_valid = train_test_split(X, y, test_size=0.33, random_state=42)\n",
        "lr = LinearRegression()\n",
        "lr.fit(X_train, y_train)\n",
        "print(lr.intercept_)\n",
        "print(lr.coef_)"
      ],
      "execution_count": null,
      "outputs": [
        {
          "output_type": "stream",
          "name": "stdout",
          "text": [
            "30774.037736162078\n",
            "[98.50395317]\n"
          ]
        }
      ]
    },
    {
      "cell_type": "code",
      "metadata": {
        "colab": {
          "base_uri": "https://localhost:8080/"
        },
        "id": "zKEoYSNb26h2",
        "outputId": "c4a87c09-9e7f-48a2-96a1-aaff649a2449"
      },
      "source": [
        "h = GradientDescent()\n",
        "h.fit(X_train, y_train, epochs=500000, learning_rate=1e-7)\n",
        "print(h.intercept_)\n",
        "print(h.coef_)"
      ],
      "execution_count": null,
      "outputs": [
        {
          "output_type": "stream",
          "name": "stdout",
          "text": [
            "epoch:      0 - loss: 38281614347.171013\n",
            "epoch:  50000 - loss: 3240898292.045379\n",
            "epoch: 100000 - loss: 3240689279.672517\n",
            "epoch: 150000 - loss: 3240480706.666879\n",
            "epoch: 200000 - loss: 3240272572.104864\n",
            "epoch: 250000 - loss: 3240064875.064816\n",
            "epoch: 300000 - loss: 3239857614.627014\n",
            "epoch: 350000 - loss: 3239650789.873673\n",
            "epoch: 400000 - loss: 3239444399.888936\n",
            "epoch: 450000 - loss: 3239238443.758870\n",
            "322.84573179853834\n",
            "[116.36452515]\n"
          ]
        }
      ]
    },
    {
      "cell_type": "code",
      "metadata": {
        "id": "B9RyY6Ax3qcL"
      },
      "source": [
        "import matplotlib.pyplot as plt\n",
        "\n",
        "def plot_contour(X_train, y_train, w_history, w_0_min, w_0_max, w_1_min, w_1_max, w_0_star, w_1_star):\n",
        "    m = X_train.shape[0]\n",
        "    X0 = np.ones((m, 1), dtype=float)\n",
        "    X_train = np.concatenate([X0, X_train], axis=1)\n",
        "    resolution = 100\n",
        "    W_0, W_1 = np.meshgrid(np.linspace(w_0_min, w_0_max, resolution), np.linspace(w_1_min, w_1_max, resolution))\n",
        "    Z = np.zeros((resolution, resolution))\n",
        "    for i in range(resolution):\n",
        "        for j in range(resolution):\n",
        "            w = np.array([W_0[i, j], W_1[i, j]])\n",
        "            y_hat = np.dot(X_train, w)\n",
        "            mse = ((y_hat - y_train).T.dot(y_hat - y_train)) / m\n",
        "            Z[i, j] = mse\n",
        "    epochs = len(w_history)\n",
        "    w_0_history = []\n",
        "    w_1_history = []\n",
        "    for i in range(epochs):\n",
        "        w_0_history.append(w_history[i][0])\n",
        "        w_1_history.append(w_history[i][1])\n",
        "    fig, ax = plt.subplots()\n",
        "    CS = ax.contour(W_0, W_1, Z)\n",
        "    ax.clabel(CS, inline=1, fontsize=10)\n",
        "    ax.plot(w_0_history, w_1_history, \"-\", color=\"blue\")\n",
        "    ax.scatter(w_0_star, w_1_star, marker=\"*\", color=\"red\")\n",
        "    ax.set_xlabel(\"$w_0$\")\n",
        "    ax.set_ylabel(\"$w_1$\", rotation=0)\n",
        "    plt.show()"
      ],
      "execution_count": null,
      "outputs": []
    },
    {
      "cell_type": "code",
      "metadata": {
        "colab": {
          "base_uri": "https://localhost:8080/",
          "height": 285
        },
        "id": "MPnrZ3z63qkj",
        "outputId": "d6c836d5-9647-4b43-fa69-066ab5d74961"
      },
      "source": [
        "w_history = h._w_history\n",
        "plot_contour(X_train, y_train, w_history, -5000, 35000, -10, 200, lr.intercept_, lr.coef_[0])"
      ],
      "execution_count": null,
      "outputs": [
        {
          "output_type": "display_data",
          "data": {
            "image/png": "[encoded data removed]",
            "text/plain": [
              "<Figure size 432x288 with 1 Axes>"
            ]
          },
          "metadata": {
            "needs_background": "light"
          }
        }
      ]
    },
    {
      "cell_type": "code",
      "metadata": {
        "colab": {
          "base_uri": "https://localhost:8080/"
        },
        "id": "TVI-hgw_6HVt",
        "outputId": "59ba0794-3706-41bf-b37d-f24ba87555c3"
      },
      "source": [
        "from sklearn.preprocessing import MinMaxScaler\n",
        "\n",
        "mms = MinMaxScaler()\n",
        "X_scaled = mms.fit_transform(X)\n",
        "y = train['SalePrice'].values\n",
        "X_train, X_valid, y_train, y_valid = train_test_split(X_scaled, y, test_size=0.33, random_state=42)\n",
        "lr = LinearRegression()\n",
        "lr.fit(X_train, y_train)\n",
        "print(lr.intercept_) # 截距項\n",
        "print(lr.coef_)      # 係數項"
      ],
      "execution_count": null,
      "outputs": [
        {
          "output_type": "stream",
          "name": "stdout",
          "text": [
            "63674.358095820746\n",
            "[522858.98344032]\n"
          ]
        }
      ]
    },
    {
      "cell_type": "code",
      "metadata": {
        "colab": {
          "base_uri": "https://localhost:8080/"
        },
        "id": "3jyHtn0_6OeN",
        "outputId": "3db53275-bf72-40eb-8027-3035ff4bcf4f"
      },
      "source": [
        "h = GradientDescent()\n",
        "h.fit(X_train, y_train, epochs=100000, learning_rate=0.01)\n",
        "print(h.intercept_) # 截距項\n",
        "print(h.coef_)      # 係數項"
      ],
      "execution_count": null,
      "outputs": [
        {
          "output_type": "stream",
          "name": "stdout",
          "text": [
            "epoch:      0 - loss: 38574788038.771294\n",
            "epoch:  10000 - loss: 3197795859.954370\n",
            "epoch:  20000 - loss: 3142864605.267675\n",
            "epoch:  30000 - loss: 3141503145.593760\n",
            "epoch:  40000 - loss: 3141469402.100110\n",
            "epoch:  50000 - loss: 3141468565.774668\n",
            "epoch:  60000 - loss: 3141468545.046517\n",
            "epoch:  70000 - loss: 3141468544.532774\n",
            "epoch:  80000 - loss: 3141468544.520041\n",
            "epoch:  90000 - loss: 3141468544.519726\n",
            "63674.3591206034\n",
            "[522858.97891743]\n"
          ]
        }
      ]
    },
    {
      "cell_type": "code",
      "metadata": {
        "colab": {
          "base_uri": "https://localhost:8080/"
        },
        "id": "Y3YRqry06WlE",
        "outputId": "a93ea584-f054-4b78-934e-c3240b6dbf7c"
      },
      "source": [
        "intercept_rescaled = h.intercept_ - (h.coef_ * mms.data_min_ / mms.data_range_)\n",
        "coef_rescaled = h.coef_ / mms.data_range_\n",
        "print(intercept_rescaled)\n",
        "print(coef_rescaled)"
      ],
      "execution_count": null,
      "outputs": [
        {
          "output_type": "stream",
          "name": "stdout",
          "text": [
            "[30774.03904554]\n",
            "[98.50395232]\n"
          ]
        }
      ]
    },
    {
      "cell_type": "code",
      "metadata": {
        "id": "fKWTzMW77Uox"
      },
      "source": [
        "class AdaGrad(GradientDescent):\n",
        "    \"\"\"\n",
        "    This class defines the Adaptive Gradient Descent algorithm for linear regression.\n",
        "    \"\"\"\n",
        "    def fit(self, X_train, y_train, epochs=10000, learning_rate=0.01, epsilon=1e-06):\n",
        "        self._X_train = X_train.copy()\n",
        "        self._y_train = y_train.copy()\n",
        "        self._m = self._X_train.shape[0]\n",
        "        if self._fit_intercept:\n",
        "            X0 = np.ones((self._m, 1), dtype=float)\n",
        "            self._X_train = np.concatenate([X0, self._X_train], axis=1)\n",
        "        n = self._X_train.shape[1]\n",
        "        self._w = np.random.rand(n)\n",
        "        # 初始化 ssg\n",
        "        ssg = np.zeros(n, dtype=float)\n",
        "        n_prints = 10\n",
        "        print_iter = epochs // n_prints\n",
        "        w_history = dict()\n",
        "        for i in range(epochs):\n",
        "            current_w = self._w.copy()\n",
        "            w_history[i] = current_w\n",
        "            mse = self.mean_squared_error()\n",
        "            gradient = self.find_gradient()\n",
        "            ssg += gradient**2\n",
        "            ada_grad = gradient / (epsilon + ssg**0.5)\n",
        "            if i % print_iter == 0:\n",
        "                print(\"epoch: {:6} - loss: {:.6f}\".format(i, mse))\n",
        "            # 以 adaptive gradient 更新 w\n",
        "            self._w -= learning_rate*ada_grad\n",
        "        w_ravel = self._w.copy().ravel()\n",
        "        self.intercept_ = w_ravel[0]\n",
        "        self.coef_ = w_ravel[1:]\n",
        "        self._w_history = w_history"
      ],
      "execution_count": null,
      "outputs": []
    },
    {
      "cell_type": "code",
      "metadata": {
        "colab": {
          "base_uri": "https://localhost:8080/"
        },
        "id": "3nH83exWB-uh",
        "outputId": "74fddd96-180c-4a86-832b-e89d48ade115"
      },
      "source": [
        "X_train, X_valid, y_train, y_valid = train_test_split(X, y, test_size=0.33, random_state=42)\n",
        "h = AdaGrad()\n",
        "h.fit(X_train, y_train, epochs=500000, learning_rate=100)\n",
        "print(h.intercept_) # 截距項\n",
        "print(h.coef_)      # 係數項"
      ],
      "execution_count": null,
      "outputs": [
        {
          "output_type": "stream",
          "name": "stdout",
          "text": [
            "epoch:      0 - loss: 38016883311.033562\n",
            "epoch:  50000 - loss: 3146391729.406802\n",
            "epoch: 100000 - loss: 3141881256.270206\n",
            "epoch: 150000 - loss: 3141503985.501101\n",
            "epoch: 200000 - loss: 3141471594.080489\n",
            "epoch: 250000 - loss: 3141468806.968010\n",
            "epoch: 300000 - loss: 3141468567.106618\n",
            "epoch: 350000 - loss: 3141468546.463600\n",
            "epoch: 400000 - loss: 3141468544.687012\n",
            "epoch: 450000 - loss: 3141468544.534116\n",
            "30773.929215112123\n",
            "[98.50401683]\n"
          ]
        }
      ]
    },
    {
      "cell_type": "code",
      "metadata": {
        "colab": {
          "base_uri": "https://localhost:8080/"
        },
        "id": "_MzxQzsNCrI4",
        "outputId": "fac6eff2-7500-46a8-9e26-4040b868902e"
      },
      "source": [
        "lr = LinearRegression()\n",
        "lr.fit(X_train, y_train)"
      ],
      "execution_count": null,
      "outputs": [
        {
          "output_type": "execute_result",
          "data": {
            "text/plain": [
              "LinearRegression()"
            ]
          },
          "metadata": {},
          "execution_count": 63
        }
      ]
    },
    {
      "cell_type": "code",
      "metadata": {
        "colab": {
          "base_uri": "https://localhost:8080/",
          "height": 285
        },
        "id": "FnMWcenNCWyw",
        "outputId": "d4eda892-7ab6-4af9-98c0-6e905d0f02a3"
      },
      "source": [
        "w_history = h._w_history\n",
        "plot_contour(X_train, y_train, w_history, -5000, 35000, -10, 200, lr.intercept_, lr.coef_[0])"
      ],
      "execution_count": null,
      "outputs": [
        {
          "output_type": "display_data",
          "data": {
            "image/png": "[encoded data removed]",
            "text/plain": [
              "<Figure size 432x288 with 1 Axes>"
            ]
          },
          "metadata": {
            "needs_background": "light"
          }
        }
      ]
    },
    {
      "cell_type": "code",
      "metadata": {
        "id": "xwJyrRkBC1hg"
      },
      "source": [
        ""
      ],
      "execution_count": null,
      "outputs": []
    },
    {
      "cell_type": "markdown",
      "metadata": {
        "id": "11jLhJOpJdbm"
      },
      "source": [
        "## 參考書目\n",
        "\n",
        "[新手村逃脫！初心者的Python 機器學習攻略](https://www.books.com.tw/products/0010867390)"
      ]
    }
  ]
}